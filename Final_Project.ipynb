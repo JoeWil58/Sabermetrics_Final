{
 "cells": [
  {
   "cell_type": "code",
   "execution_count": 3,
   "metadata": {},
   "outputs": [],
   "source": [
    "from pybaseball import statcast\n",
    "import pandas as pd\n",
    "import matplotlib.pyplot as plt\n",
    "from pybaseball import playerid_lookup\n",
    "import numpy as np\n",
    "from pybaseball import statcast_batter"
   ]
  },
  {
   "cell_type": "code",
   "execution_count": 4,
   "metadata": {},
   "outputs": [],
   "source": [
    "#statcast(start_dt='2018-03-29', end_dt='2018-09-30').to_csv(path_or_buf='/Users/Joe/Documents/Baseball/statcast_2018.txt')"
   ]
  },
  {
   "cell_type": "code",
   "execution_count": 7,
   "metadata": {},
   "outputs": [],
   "source": [
    "stats = pd.read_csv('/Users/Joe/Documents/SabermetricsFinal/statcast_2018.csv')"
   ]
  },
  {
   "cell_type": "code",
   "execution_count": null,
   "metadata": {},
   "outputs": [],
   "source": [
    "stats = stats.loc[stats['events'].notnull()].copy()\n",
    "stats.to_csv()"
   ]
  },
  {
   "cell_type": "code",
   "execution_count": 305,
   "metadata": {},
   "outputs": [],
   "source": [
    "#list(stats)"
   ]
  },
  {
   "cell_type": "code",
   "execution_count": 306,
   "metadata": {},
   "outputs": [],
   "source": [
    "#Get our initial two dataframes of any sort of shifted alignment and all standard alignment\n",
    "stats = stats.dropna(subset=['if_fielding_alignment', 'of_fielding_alignment'])\n",
    "stats_shift = stats.loc[(stats['if_fielding_alignment'] != 'Standard') | (stats['of_fielding_alignment'] != 'Standard')]\n",
    "stats_standard = stats.loc[(stats['if_fielding_alignment'] == 'Standard') & (stats['of_fielding_alignment'] == 'Standard')]"
   ]
  },
  {
   "cell_type": "code",
   "execution_count": 307,
   "metadata": {},
   "outputs": [],
   "source": [
    "#Separate these into early, mid, and late season\n",
    "shift_early = stats_shift.loc[stats_shift['game_date'].str.contains('2018-04') | stats_shift['game_date'].str.contains('2018-05')]\n",
    "shift_mid = stats_shift.loc[stats['game_date'].str.contains('2018-06') | stats_shift['game_date'].str.contains('2018-07')]\n",
    "shift_late = stats_shift.loc[stats['game_date'].str.contains('2018-08') | stats_shift['game_date'].str.contains('2018-09')]\n"
   ]
  },
  {
   "cell_type": "code",
   "execution_count": 308,
   "metadata": {},
   "outputs": [],
   "source": [
    "#Separate standard into early, mid, and late season as well\n",
    "standard_early = stats_standard.loc[stats_standard['game_date'].str.contains('2018-04') | stats_standard['game_date'].str.contains('2018-05')]\n",
    "standard_mid = stats_standard.loc[stats['game_date'].str.contains('2018-06') | stats_standard['game_date'].str.contains('2018-07')]\n",
    "standard_late = stats_standard.loc[stats['game_date'].str.contains('2018-08') | stats_standard['game_date'].str.contains('2018-09')]\n"
   ]
  },
  {
   "cell_type": "code",
   "execution_count": 309,
   "metadata": {},
   "outputs": [],
   "source": [
    "#We want dataframes for all the hit events and all the at-bat events so we can eventually calculate an average\n",
    "#Slight caveat though. I am including sac fly as a 'hit' because I believe if you move a runner up or score a run\n",
    "#on a sacrifice fly you still did your job, and thus beat the shift.\n",
    "#I don't believe the same applies to a sac bunt since bunts have virtually no chance of leaving the infield regardless of shift\n",
    "shift_early_hits = shift_early.loc[(shift_early['events'] == 'single') | (shift_early['events'] == 'double') | (shift_early['events'] == 'triple') | (shift_early['events'] == 'home_run') | (shift_early['events'] == 'sac_fly')]\n",
    "shift_mid_hits = shift_mid.loc[(shift_mid['events'] == 'single') | (shift_mid['events'] == 'double') | (shift_mid['events'] == 'triple') | (shift_mid['events'] == 'home_run') | (shift_mid['events'] == 'sac_fly')]\n",
    "shift_late_hits = shift_late.loc[(shift_late['events'] == 'single') | (shift_late['events'] == 'double') | (shift_late['events'] == 'triple') | (shift_late['events'] == 'home_run') | (shift_late['events'] == 'sac_fly')]\n",
    "\n",
    "shift_early_ab = shift_early.loc[(shift_early['events'] == 'field_out') | (shift_early['events'] == 'strikeout') | (shift_early['events'] == 'single') | (shift_early['events'] == 'double') | (shift_early['events'] == 'grounded_into_double_play') | (shift_early['events'] == 'home_run') | (shift_early['events'] == 'double_play') | (shift_early['events'] == 'triple') | (shift_early['events'] == 'sac_fly') | (shift_early['events'] == 'force_out') | (shift_early['events'] == 'field_error') | (shift_early['events'] == 'fielders_choice_out') | (shift_early['events'] == 'strikeout_double_play') | (shift_early['events'] == 'sac_fly_double_play') | (shift_early['events'] == 'fielders_chocie') | (shift_early['events'] == 'other_out') | (shift_early['events'] == 'triple_play')]\n",
    "shift_mid_ab = shift_mid.loc[(shift_mid['events'] == 'field_out') | (shift_mid['events'] == 'strikeout') | (shift_mid['events'] == 'single') | (shift_mid['events'] == 'double') | (shift_mid['events'] == 'grounded_into_double_play') | (shift_mid['events'] == 'home_run') | (shift_mid['events'] == 'double_play') | (shift_mid['events'] == 'triple') | (shift_mid['events'] == 'sac_fly') | (shift_mid['events'] == 'force_out') | (shift_mid['events'] == 'field_error') | (shift_mid['events'] == 'fielders_choice_out') | (shift_mid['events'] == 'strikeout_double_play') | (shift_mid['events'] == 'sac_fly_double_play') | (shift_mid['events'] == 'fielders_chocie') | (shift_mid['events'] == 'other_out') | (shift_mid['events'] == 'triple_play')]\n",
    "shift_late_ab = shift_late.loc[(shift_late['events'] == 'field_out') | (shift_late['events'] == 'strikeout') | (shift_late['events'] == 'single') | (shift_late['events'] == 'double') | (shift_late['events'] == 'grounded_into_double_play') | (shift_late['events'] == 'home_run') | (shift_late['events'] == 'double_play') | (shift_late['events'] == 'triple') | (shift_late['events'] == 'sac_fly') | (shift_late['events'] == 'force_out') | (shift_late['events'] == 'field_error') | (shift_late['events'] == 'fielders_choice_out') | (shift_late['events'] == 'strikeout_double_play') | (shift_late['events'] == 'sac_fly_double_play') | (shift_late['events'] == 'fielders_chocie') | (shift_late['events'] == 'other_out') | (shift_late['events'] == 'triple_play')]\n"
   ]
  },
  {
   "cell_type": "code",
   "execution_count": 311,
   "metadata": {},
   "outputs": [],
   "source": [
    "#These are the same slices as above but for our standard alignment\n",
    "standard_early_hits = standard_early.loc[(standard_early['events'] == 'single') | (standard_early['events'] == 'double') | (standard_early['events'] == 'triple') | (standard_early['events'] == 'home_run') | (standard_early['events'] == 'sac_fly')]\n",
    "standard_mid_hits = standard_mid.loc[(standard_mid['events'] == 'single') | (standard_mid['events'] == 'double') | (standard_mid['events'] == 'triple') | (standard_mid['events'] == 'home_run') | (standard_mid['events'] == 'sac_fly')]\n",
    "standard_late_hits = standard_late.loc[(standard_late['events'] == 'single') | (standard_late['events'] == 'double') | (standard_late['events'] == 'triple') | (standard_late['events'] == 'home_run') | (standard_late['events'] == 'sac_fly')]\n",
    "\n",
    "standard_early_ab = standard_early.loc[(standard_early['events'] == 'field_out') | (standard_early['events'] == 'strikeout') | (standard_early['events'] == 'single') | (standard_early['events'] == 'double') | (standard_early['events'] == 'grounded_into_double_play') | (standard_early['events'] == 'home_run') | (standard_early['events'] == 'double_play') | (standard_early['events'] == 'triple') | (standard_early['events'] == 'sac_fly') | (standard_early['events'] == 'force_out') | (standard_early['events'] == 'field_error') | (standard_early['events'] == 'fielders_choice_out') | (standard_early['events'] == 'strikeout_double_play') | (standard_early['events'] == 'sac_fly_double_play') | (standard_early['events'] == 'fielders_chocie') | (standard_early['events'] == 'other_out') | (standard_early['events'] == 'triple_play')]\n",
    "standard_mid_ab = standard_mid.loc[(standard_mid['events'] == 'field_out') | (standard_mid['events'] == 'strikeout') | (standard_mid['events'] == 'single') | (standard_mid['events'] == 'double') | (standard_mid['events'] == 'grounded_into_double_play') | (standard_mid['events'] == 'home_run') | (standard_mid['events'] == 'double_play') | (standard_mid['events'] == 'triple') | (standard_mid['events'] == 'sac_fly') | (standard_mid['events'] == 'force_out') | (standard_mid['events'] == 'field_error') | (standard_mid['events'] == 'fielders_choice_out') | (standard_mid['events'] == 'strikeout_double_play') | (standard_mid['events'] == 'sac_fly_double_play') | (standard_mid['events'] == 'fielders_chocie') | (standard_mid['events'] == 'other_out') | (standard_mid['events'] == 'triple_play')]\n",
    "standard_late_ab = standard_late.loc[(standard_late['events'] == 'field_out') | (standard_late['events'] == 'strikeout') | (standard_late['events'] == 'single') | (standard_late['events'] == 'double') | (standard_late['events'] == 'grounded_into_double_play') | (standard_late['events'] == 'home_run') | (standard_late['events'] == 'double_play') | (standard_late['events'] == 'triple') | (standard_late['events'] == 'sac_fly') | (standard_late['events'] == 'force_out') | (standard_late['events'] == 'field_error') | (standard_late['events'] == 'fielders_choice_out') | (standard_late['events'] == 'strikeout_double_play') | (standard_late['events'] == 'sac_fly_double_play') | (standard_late['events'] == 'fielders_chocie') | (standard_late['events'] == 'other_out') | (standard_late['events'] == 'triple_play')]\n"
   ]
  },
  {
   "cell_type": "code",
   "execution_count": 313,
   "metadata": {},
   "outputs": [],
   "source": [
    "#For the sake of typing I'm going to abbreviate 'shift early hits' to 'seh', 'shift mid hits' to 'smh' and so on.\n",
    "#This will give us the number of hits each batter got when the shift was on.\n",
    "seh_group = shift_early_hits.groupby(['batter']).size()\n",
    "smh_group = shift_mid_hits.groupby(['batter']).size()\n",
    "slh_group = shift_late_hits.groupby(['batter']).size()\n",
    "\n",
    "#This will give us the number of plate appearances each batter got when the shift was on.\n",
    "#We'll use 'se_ab' to stand for 'shift early at bat' and same convention for mid and late.\n",
    "se_ab_group = shift_early_ab.groupby(['batter']).size()\n",
    "sm_ab_group = shift_mid_ab.groupby(['batter']).size()\n",
    "sl_ab_group = shift_late_ab.groupby(['batter']).size()"
   ]
  },
  {
   "cell_type": "code",
   "execution_count": 314,
   "metadata": {},
   "outputs": [],
   "source": [
    "#For the non-shift situations I will use the abbreviation 'stan_eh' to mean 'standard early hits.' Not the \n",
    "#most concise but it gets the job done.\n",
    "#This will give the number of hits each batter had without any shift on.\n",
    "stan_eh_group = standard_early_hits.groupby(['batter']).size()\n",
    "stan_mh_group = standard_mid_hits.groupby(['batter']).size()\n",
    "stan_lh_group = standard_late_hits.groupby(['batter']).size()\n",
    "\n",
    "#Now we will find the number of at bats each batter had without a shift one.\n",
    "#Here I will use 'stan_eab' to mean 'standard early at bat' and so on.\n",
    "stan_eab_group = standard_early_ab.groupby(['batter']).size()\n",
    "stan_mab_group = standard_mid_ab.groupby(['batter']).size()\n",
    "stan_lab_group = standard_late_ab.groupby(['batter']).size()"
   ]
  },
  {
   "cell_type": "code",
   "execution_count": 315,
   "metadata": {},
   "outputs": [],
   "source": [
    "#Let's turn them all into dictionaries so we can actually do things with them\n",
    "seh_group = seh_group.to_dict()\n",
    "smh_group = smh_group.to_dict()\n",
    "slh_group = slh_group.to_dict()\n",
    "se_ab_group = se_ab_group.to_dict()\n",
    "sm_ab_group = sm_ab_group.to_dict()\n",
    "sl_ab_group = sl_ab_group.to_dict()\n",
    "\n",
    "stan_eh_group = stan_eh_group.to_dict()\n",
    "stan_mh_group = stan_mh_group.to_dict()\n",
    "stan_lh_group = stan_lh_group.to_dict()\n",
    "stan_eab_group = stan_eab_group.to_dict()\n",
    "stan_mab_group = stan_mab_group.to_dict()\n",
    "stan_lab_group = stan_lab_group.to_dict()"
   ]
  },
  {
   "cell_type": "code",
   "execution_count": 354,
   "metadata": {},
   "outputs": [],
   "source": [
    "'''\n",
    "This function takes in a players first and last name and then returns the following:\n",
    "* early season shift average\n",
    "* early season standard alignment average\n",
    "* mid season shift average\n",
    "* mid season standard alignment average\n",
    "* late season shift average\n",
    "* late season standard alignment average\n",
    "\n",
    "If 'verbose' is set to True, then the function will also print all of these \n",
    "values in a nice format.\n",
    "'''\n",
    "def player_shift(last_name, first_name, verbose = False):\n",
    "    id_num = playerid_lookup(last_name, first_name)['key_mlbam']\n",
    "    print()\n",
    "    if len(id_num) == 0:\n",
    "        return \"Not a valid player name.\"\n",
    "    id_num = int(id_num)\n",
    "    \n",
    "    if id_num in se_ab_group:\n",
    "        if id_num in seh_group:\n",
    "            early_shift_avg = seh_group[id_num] / se_ab_group[id_num]\n",
    "        else:\n",
    "            early_shift_avg = 0\n",
    "    if id_num in sm_ab_group:\n",
    "        if id_num in smh_group:\n",
    "            mid_shift_avg = smh_group[id_num] / sm_ab_group[id_num]\n",
    "        else:\n",
    "            mid_shift_avg = 0\n",
    "    if id_num in sl_ab_group:\n",
    "        if id_num in slh_group:\n",
    "            late_shift_avg = slh_group[id_num] / sl_ab_group[id_num]\n",
    "        else:\n",
    "            late_shift_avg = 0\n",
    "            \n",
    "    if id_num in stan_eab_group:\n",
    "        if id_num in stan_eh_group:\n",
    "            early_stan_avg = stan_eh_group[id_num] / stan_eab_group[id_num]\n",
    "        else:\n",
    "            early_stan_avg = 0\n",
    "    if id_num in stan_mab_group:\n",
    "        if id_num in stan_mh_group:\n",
    "            mid_stan_avg = stan_mh_group[id_num] / stan_mab_group[id_num]\n",
    "        else:\n",
    "            mid_stan_avg = 0\n",
    "    if id_num in stan_lab_group:\n",
    "        if id_num in stan_lh_group:\n",
    "            late_stan_avg = stan_lh_group[id_num] / stan_lab_group[id_num]\n",
    "        else:\n",
    "            late_stan_avg = 0\n",
    "    \n",
    "    if verbose == True:\n",
    "        print(first_name + \" \" + last_name + \" early shift average: {:.3f}\".format(early_shift_avg))\n",
    "        print(first_name + \" \" + last_name + \" early standard average: {:.3f}\".format(early_stan_avg))\n",
    "        print()\n",
    "        print(first_name + \" \" + last_name + \" mid shift average: {:.3f}\".format(mid_shift_avg))\n",
    "        print(first_name + \" \" + last_name + \" mid standard average: {:.3f}\".format(mid_stan_avg))\n",
    "        print()\n",
    "        print(first_name + \" \" + last_name + \" late shift average: {:.3f}\".format(late_shift_avg))\n",
    "        print(first_name + \" \" + last_name + \" late standard average: {:.3f}\".format(late_stan_avg))\n",
    "    \n",
    "    return early_shift_avg, early_stan_avg, mid_shift_avg, mid_stan_avg, late_shift_avg, late_stan_avg"
   ]
  },
  {
   "cell_type": "code",
   "execution_count": 318,
   "metadata": {},
   "outputs": [
    {
     "name": "stdout",
     "output_type": "stream",
     "text": [
      "Gathering player lookup table. This may take a moment.\n",
      "\n",
      "mike trout early shift average: 0.277\n",
      "mike trout early standard average: 0.325\n",
      "\n",
      "mike trout mid shift average: 0.274\n",
      "mike trout mid standard average: 0.374\n",
      "\n",
      "mike trout late shift average: 0.222\n",
      "mike trout late standard average: 0.373\n"
     ]
    },
    {
     "data": {
      "text/plain": [
       "<matplotlib.legend.Legend at 0x1a1be39b0>"
      ]
     },
     "execution_count": 318,
     "metadata": {},
     "output_type": "execute_result"
    },
    {
     "data": {
      "image/png": "[encoded data removed]",
      "text/plain": [
       "<Figure size 576x432 with 1 Axes>"
      ]
     },
     "metadata": {},
     "output_type": "display_data"
    }
   ],
   "source": [
    "#A quick proof-of-concept of sorts using our new function\n",
    "#We now have shift data for Mike Trout, and can plot it to see how his average changes throughout\n",
    "#the season and compare that to when the infield or outfield is in a standard alignment\n",
    "\n",
    "y = list(player_shift(\"trout\", \"mike\", verbose=True))\n",
    "y1 = [y[0], y[2], y[4]]\n",
    "y2 = [y[1], y[3], y[5]]\n",
    "x = ['early', 'mid', 'late']\n",
    "\n",
    "fig,ax = plt.subplots(figsize=(8,6))\n",
    "plt.scatter(x, y1, label=\"Shift\")\n",
    "plt.scatter(x, y2, label=\"Standard\")\n",
    "plt.title(\"Mike Trout Average w/ Shift vs. Standard Alignment\")\n",
    "plt.xlabel(\"Time of Season\")\n",
    "plt.ylabel(\"Average\")\n",
    "plt.legend()\n"
   ]
  },
  {
   "cell_type": "code",
   "execution_count": null,
   "metadata": {},
   "outputs": [],
   "source": []
  },
  {
   "cell_type": "code",
   "execution_count": 319,
   "metadata": {},
   "outputs": [],
   "source": [
    "#We want to turn the shift average into a rating, with 100 as the average player\n",
    "#To do this we need to find the league average shift average in 2018\n",
    "#Below we simply finding the at bats and hits for the whole season instead of early, mid, late\n",
    "stats_shift_h = stats_shift.loc[(stats_shift['events'] == 'single') | (stats_shift['events'] == 'double') | (stats_shift['events'] == 'triple') | (stats_shift['events'] == 'home_run') | (stats_shift['events'] == 'sac_fly')]\n",
    "stats_shift_ab = stats_shift.loc[(stats_shift['events'] == 'field_out') | (stats_shift['events'] == 'strikeout') | (stats_shift['events'] == 'single') | (stats_shift['events'] == 'double') | (stats_shift['events'] == 'grounded_into_double_play') | (stats_shift['events'] == 'home_run') | (stats_shift['events'] == 'double_play') | (stats_shift['events'] == 'triple') | (stats_shift['events'] == 'sac_fly') | (stats_shift['events'] == 'force_out') | (stats_shift['events'] == 'field_error') | (stats_shift['events'] == 'fielders_choice_out') | (stats_shift['events'] == 'strikeout_double_play') | (stats_shift['events'] == 'sac_fly_double_play') | (stats_shift['events'] == 'fielders_chocie') | (stats_shift['events'] == 'other_out') | (stats_shift['events'] == 'triple_play')]"
   ]
  },
  {
   "cell_type": "code",
   "execution_count": 320,
   "metadata": {},
   "outputs": [],
   "source": [
    "#We are doing the same slice as above but with standard fielding alignment\n",
    "stats_standard_h = stats_standard.loc[(stats_standard['events'] == 'single') | (stats_standard['events'] == 'double') | (stats_standard['events'] == 'triple') | (stats_standard['events'] == 'home_run') | (stats_standard['events'] == 'sac_fly')]\n",
    "stats_standard_ab = stats_standard.loc[(stats_standard['events'] == 'field_out') | (stats_standard['events'] == 'strikeout') | (stats_standard['events'] == 'single') | (stats_standard['events'] == 'double') | (stats_standard['events'] == 'grounded_into_double_play') | (stats_standard['events'] == 'home_run') | (stats_standard['events'] == 'double_play') | (stats_standard['events'] == 'triple') | (stats_standard['events'] == 'sac_fly') | (stats_standard['events'] == 'force_out') | (stats_standard['events'] == 'field_error') | (stats_standard['events'] == 'fielders_choice_out') | (stats_standard['events'] == 'strikeout_double_play') | (stats_standard['events'] == 'sac_fly_double_play') | (stats_standard['events'] == 'fielders_chocie') | (stats_standard['events'] == 'other_out') | (stats_standard['events'] == 'triple_play')]"
   ]
  },
  {
   "cell_type": "code",
   "execution_count": 321,
   "metadata": {},
   "outputs": [],
   "source": [
    "#Below we turn our slices into dataframes and then merge them so we have hits and at bats in one\n",
    "#frame so we can calculate average as another column\n",
    "\n",
    "shift_h_group = stats_shift_h.groupby(['batter']).size()\n",
    "shift_h = shift_h_group.to_frame()\n",
    "shift_h.columns = ['h']\n",
    "\n",
    "shift_ab_group = stats_shift_ab.groupby(['batter']).size()\n",
    "shift_ab = shift_ab_group.to_frame()\n",
    "shift_ab.columns = ['ab']\n",
    "\n",
    "shift = shift_h.join(shift_ab, how='inner')\n",
    "\n",
    "shift['avg'] = shift['h'] / shift['ab']"
   ]
  },
  {
   "cell_type": "code",
   "execution_count": 322,
   "metadata": {},
   "outputs": [],
   "source": [
    "#Same as above but with standard fielding alignment\n",
    "standard_h_group = stats_standard_h.groupby(['batter']).size()\n",
    "standard_h = standard_h_group.to_frame()\n",
    "standard_h.columns = ['h']\n",
    "\n",
    "standard_ab_group = stats_standard_ab.groupby(['batter']).size()\n",
    "standard_ab = standard_ab_group.to_frame()\n",
    "standard_ab.columns = ['ab']\n",
    "\n",
    "standard = standard_h.join(standard_ab, how='inner')\n",
    "\n",
    "standard['avg'] = standard['h'] / standard['ab']"
   ]
  },
  {
   "cell_type": "code",
   "execution_count": 323,
   "metadata": {},
   "outputs": [],
   "source": [
    "#This is the league wide mean value for average with both type of fielding alignment\n",
    "shift_mean = shift['avg'].mean()\n",
    "stan_mean = standard['avg'].mean()"
   ]
  },
  {
   "cell_type": "code",
   "execution_count": 324,
   "metadata": {},
   "outputs": [],
   "source": [
    "#To create a rating, we need to find how much of an increase in average relates to a one point increase in rating\n",
    "shift_point = shift_mean / 100\n",
    "stan_point = stan_mean / 100"
   ]
  },
  {
   "cell_type": "code",
   "execution_count": 325,
   "metadata": {},
   "outputs": [
    {
     "data": {
      "text/plain": [
       "572816"
      ]
     },
     "execution_count": 325,
     "metadata": {},
     "output_type": "execute_result"
    }
   ],
   "source": [
    "#We can now use the above calculated values to assign each batter a shift rating where 100 is league average.\n",
    "shift['shift_rating'] = round(((shift['avg'] - shift_mean) / shift_point) + 100, 0)\n",
    "standard['stan_rating'] = round(((standard['avg'] - stan_mean) / stan_point) + 100, 0)\n",
    "\n",
    "shift = shift.sort_values(by=['shift_rating'], ascending=False)\n",
    "standard = standard.sort_values(by=['stan_rating'], ascending=False)\n",
    "\n",
    "shift_active = shift.loc[shift['ab'] > 100]\n",
    "standard_active = standard.loc[standard['ab'] > 100]\n",
    "\n",
    "good_id = int(shift_active[shift_active['shift_rating'] == shift_active['shift_rating'].max()].index[0])\n",
    "good_id"
   ]
  },
  {
   "cell_type": "code",
   "execution_count": 357,
   "metadata": {},
   "outputs": [],
   "source": [
    "#All of the calculations performed above for the entire season are now applied to our early, mid, and late season frames\n",
    "#'seh' stands for 'shift early hits'\n",
    "#'se_ab' stands for 'shift early at bats'\n",
    "#The convention continues like that\n",
    "\n",
    "seh = pd.DataFrame.from_dict(seh_group, orient='index')\n",
    "seh.columns = ['h']\n",
    "smh = pd.DataFrame.from_dict(smh_group, orient='index')\n",
    "smh.columns = ['h']\n",
    "slh = pd.DataFrame.from_dict(slh_group, orient='index')\n",
    "slh.columns = ['h']\n",
    "\n",
    "se_ab = pd.DataFrame.from_dict(se_ab_group, orient='index')\n",
    "se_ab.columns = ['ab']\n",
    "sm_ab = pd.DataFrame.from_dict(sm_ab_group, orient='index')\n",
    "sm_ab.columns = ['ab']\n",
    "sl_ab = pd.DataFrame.from_dict(sl_ab_group, orient='index')\n",
    "sl_ab.columns = ['ab']\n",
    "\n",
    "se_avg = seh.join(se_ab, how='inner')\n",
    "sm_avg = smh.join(sm_ab, how='inner')\n",
    "sl_avg = slh.join(sl_ab, how='inner')"
   ]
  },
  {
   "cell_type": "code",
   "execution_count": 358,
   "metadata": {},
   "outputs": [],
   "source": [
    "#Same as above but for standard alignment\n",
    "#'stan_eh' stands for 'standard early hits'\n",
    "#'stan_eab' stands for 'standard early at bats'\n",
    "#The convention continues like that\n",
    "\n",
    "stan_eh = pd.DataFrame.from_dict(stan_eh_group, orient='index')\n",
    "stan_eh.columns = ['h']\n",
    "stan_mh = pd.DataFrame.from_dict(stan_mh_group, orient='index')\n",
    "stan_mh.columns = ['h']\n",
    "stan_lh = pd.DataFrame.from_dict(stan_lh_group, orient='index')\n",
    "stan_lh.columns = ['h']\n",
    "\n",
    "stan_eab = pd.DataFrame.from_dict(stan_eab_group, orient='index')\n",
    "stan_eab.columns = ['ab']\n",
    "stan_mab = pd.DataFrame.from_dict(stan_mab_group, orient='index')\n",
    "stan_mab.columns = ['ab']\n",
    "stan_lab = pd.DataFrame.from_dict(stan_lab_group, orient='index')\n",
    "stan_lab.columns = ['ab']\n",
    "\n",
    "stan_e_avg = stan_eh.join(stan_eab, how='inner')\n",
    "stan_m_avg = stan_mh.join(stan_mab, how='inner')\n",
    "stan_l_avg = stan_lh.join(stan_lab, how='inner')"
   ]
  },
  {
   "cell_type": "code",
   "execution_count": 359,
   "metadata": {},
   "outputs": [],
   "source": [
    "se_avg['avg'] = se_avg['h'] / se_avg['ab']\n",
    "sm_avg['avg'] = sm_avg['h'] / sm_avg['ab']\n",
    "sl_avg['avg'] = sl_avg['h'] / sl_avg['ab']\n",
    "stan_e_avg['avg'] = stan_e_avg['h'] / stan_e_avg['ab']\n",
    "stan_m_avg['avg'] = stan_m_avg['h'] / stan_m_avg['ab']\n",
    "stan_l_avg['avg'] = stan_l_avg['h'] / stan_l_avg['ab']\n",
    "\n",
    "#shift['shift_rating'] = round(((shift['avg'] - shift_mean) / shift_point) + 100, 0)\n",
    "#standard['stan_rating'] = round(((standard['avg'] - stan_mean) / stan_point) + 100, 0)\n",
    "\n",
    "se_avg['shift_rating'] = round(((se_avg['avg'] - shift_mean) / shift_point) + 100, 0)\n",
    "sm_avg['shift_rating'] = round(((sm_avg['avg'] - shift_mean) / shift_point) + 100, 0)\n",
    "sl_avg['shift_rating'] = round(((sl_avg['avg'] - shift_mean) / shift_point) + 100, 0)\n",
    "\n",
    "stan_e_avg['stan_rating'] = round(((stan_e_avg['avg'] - stan_mean) / stan_point) + 100, 0)\n",
    "stan_m_avg['stan_rating'] = round(((stan_m_avg['avg'] - stan_mean) / stan_point) + 100, 0)\n",
    "stan_l_avg['stan_rating'] = round(((stan_l_avg['avg'] - stan_mean) / stan_point) + 100, 0)"
   ]
  },
  {
   "cell_type": "code",
   "execution_count": 360,
   "metadata": {},
   "outputs": [],
   "source": [
    "#Nowe we can create sorted lists by shift rating and standard alignment rating for each player\n",
    "#during early, mid, and late season\n",
    "\n",
    "se_avg = se_avg.sort_values(by=['shift_rating'], ascending=False)\n",
    "sm_avg = sm_avg.sort_values(by=['shift_rating'], ascending=False)\n",
    "sl_avg = sl_avg.sort_values(by=['shift_rating'], ascending=False)\n",
    "\n",
    "stan_e_avg = stan_e_avg.sort_values(by=['stan_rating'], ascending=False)\n",
    "stan_m_avg = stan_m_avg.sort_values(by=['stan_rating'], ascending=False)\n",
    "stan_l_avg = stan_l_avg.sort_values(by=['stan_rating'], ascending=False)"
   ]
  },
  {
   "cell_type": "code",
   "execution_count": 365,
   "metadata": {},
   "outputs": [],
   "source": [
    "#Now let's try to make a list of the best 'shift beaters'\n",
    "\n",
    "se_active = se_avg.loc[se_avg['ab'] >= 75]\n",
    "sm_active = sm_avg.loc[sm_avg['ab'] >= 75]\n",
    "sl_active = sl_avg.loc[sl_avg['ab'] >= 75]"
   ]
  },
  {
   "cell_type": "code",
   "execution_count": 390,
   "metadata": {},
   "outputs": [],
   "source": [
    "se_top5 = se_active.head(5).copy()\n",
    "sm_top5 = sm_active.head(5).copy()\n",
    "sl_top5 = sl_active.head(5).copy()"
   ]
  },
  {
   "cell_type": "code",
   "execution_count": 396,
   "metadata": {},
   "outputs": [],
   "source": [
    "#This gives us a list of the players identified by their playerid....pretty useless unless you have all id's memorized.\n",
    "#It's pretty easy to find a player id given a name using pybaseball, but it's hard to go the other way.\n",
    "#Luckily someone made a playerid map that will come in handy.\n",
    "\n",
    "se_top5['player_name'] = ['Joey Votto', 'Asdrubal Cabrera', 'Brandon Belt', 'Freddie Freeman', 'Jed Lowrie']\n",
    "sm_top5['player_name'] = ['Charlie Blackmon', 'J.D. Martinez', 'Giancarlo Stanton', 'Matt Carpenter', 'Gregory Polanco']\n",
    "sl_top5['player_name'] = ['Michael Brantley', 'Ronald Acuna Jr.', 'Joe Mauer', 'Anthony Rizzo', 'Cody Bellinger']"
   ]
  },
  {
   "cell_type": "code",
   "execution_count": 402,
   "metadata": {},
   "outputs": [
    {
     "name": "stdout",
     "output_type": "stream",
     "text": [
      "Early Season Shift Leaders\n"
     ]
    },
    {
     "data": {
      "text/html": [
       "<div>\n",
       "<style scoped>\n",
       "    .dataframe tbody tr th:only-of-type {\n",
       "        vertical-align: middle;\n",
       "    }\n",
       "\n",
       "    .dataframe tbody tr th {\n",
       "        vertical-align: top;\n",
       "    }\n",
       "\n",
       "    .dataframe thead th {\n",
       "        text-align: right;\n",
       "    }\n",
       "</style>\n",
       "<table border=\"1\" class=\"dataframe\">\n",
       "  <thead>\n",
       "    <tr style=\"text-align: right;\">\n",
       "      <th></th>\n",
       "      <th>h</th>\n",
       "      <th>ab</th>\n",
       "      <th>avg</th>\n",
       "      <th>shift_rating</th>\n",
       "      <th>player_name</th>\n",
       "    </tr>\n",
       "  </thead>\n",
       "  <tbody>\n",
       "    <tr>\n",
       "      <th>458015.0</th>\n",
       "      <td>33</td>\n",
       "      <td>89</td>\n",
       "      <td>0.370787</td>\n",
       "      <td>138.0</td>\n",
       "      <td>Joey Votto</td>\n",
       "    </tr>\n",
       "    <tr>\n",
       "      <th>452678.0</th>\n",
       "      <td>29</td>\n",
       "      <td>83</td>\n",
       "      <td>0.349398</td>\n",
       "      <td>130.0</td>\n",
       "      <td>Asdrubal Cabrera</td>\n",
       "    </tr>\n",
       "    <tr>\n",
       "      <th>474832.0</th>\n",
       "      <td>53</td>\n",
       "      <td>158</td>\n",
       "      <td>0.335443</td>\n",
       "      <td>125.0</td>\n",
       "      <td>Brandon Belt</td>\n",
       "    </tr>\n",
       "    <tr>\n",
       "      <th>518692.0</th>\n",
       "      <td>53</td>\n",
       "      <td>159</td>\n",
       "      <td>0.333333</td>\n",
       "      <td>124.0</td>\n",
       "      <td>Freddie Freeman</td>\n",
       "    </tr>\n",
       "    <tr>\n",
       "      <th>476704.0</th>\n",
       "      <td>33</td>\n",
       "      <td>100</td>\n",
       "      <td>0.330000</td>\n",
       "      <td>123.0</td>\n",
       "      <td>Jed Lowrie</td>\n",
       "    </tr>\n",
       "  </tbody>\n",
       "</table>\n",
       "</div>"
      ],
      "text/plain": [
       "           h   ab       avg  shift_rating       player_name\n",
       "458015.0  33   89  0.370787         138.0        Joey Votto\n",
       "452678.0  29   83  0.349398         130.0  Asdrubal Cabrera\n",
       "474832.0  53  158  0.335443         125.0      Brandon Belt\n",
       "518692.0  53  159  0.333333         124.0   Freddie Freeman\n",
       "476704.0  33  100  0.330000         123.0        Jed Lowrie"
      ]
     },
     "execution_count": 402,
     "metadata": {},
     "output_type": "execute_result"
    }
   ],
   "source": [
    "print(\"Early Season Shift Leaders\")\n",
    "se_top5"
   ]
  },
  {
   "cell_type": "code",
   "execution_count": 401,
   "metadata": {},
   "outputs": [
    {
     "name": "stdout",
     "output_type": "stream",
     "text": [
      "Mid Season Shift Leaders\n"
     ]
    },
    {
     "data": {
      "text/html": [
       "<div>\n",
       "<style scoped>\n",
       "    .dataframe tbody tr th:only-of-type {\n",
       "        vertical-align: middle;\n",
       "    }\n",
       "\n",
       "    .dataframe tbody tr th {\n",
       "        vertical-align: top;\n",
       "    }\n",
       "\n",
       "    .dataframe thead th {\n",
       "        text-align: right;\n",
       "    }\n",
       "</style>\n",
       "<table border=\"1\" class=\"dataframe\">\n",
       "  <thead>\n",
       "    <tr style=\"text-align: right;\">\n",
       "      <th></th>\n",
       "      <th>h</th>\n",
       "      <th>ab</th>\n",
       "      <th>avg</th>\n",
       "      <th>shift_rating</th>\n",
       "      <th>player_name</th>\n",
       "    </tr>\n",
       "  </thead>\n",
       "  <tbody>\n",
       "    <tr>\n",
       "      <th>453568.0</th>\n",
       "      <td>36</td>\n",
       "      <td>103</td>\n",
       "      <td>0.349515</td>\n",
       "      <td>130.0</td>\n",
       "      <td>Charlie Blackmon</td>\n",
       "    </tr>\n",
       "    <tr>\n",
       "      <th>502110.0</th>\n",
       "      <td>31</td>\n",
       "      <td>90</td>\n",
       "      <td>0.344444</td>\n",
       "      <td>128.0</td>\n",
       "      <td>J.D. Martinez</td>\n",
       "    </tr>\n",
       "    <tr>\n",
       "      <th>519317.0</th>\n",
       "      <td>27</td>\n",
       "      <td>79</td>\n",
       "      <td>0.341772</td>\n",
       "      <td>127.0</td>\n",
       "      <td>Giancarlo Stanton</td>\n",
       "    </tr>\n",
       "    <tr>\n",
       "      <th>572761.0</th>\n",
       "      <td>55</td>\n",
       "      <td>164</td>\n",
       "      <td>0.335366</td>\n",
       "      <td>125.0</td>\n",
       "      <td>Matt Carpenter</td>\n",
       "    </tr>\n",
       "    <tr>\n",
       "      <th>570256.0</th>\n",
       "      <td>30</td>\n",
       "      <td>90</td>\n",
       "      <td>0.333333</td>\n",
       "      <td>124.0</td>\n",
       "      <td>Gregory Polanco</td>\n",
       "    </tr>\n",
       "  </tbody>\n",
       "</table>\n",
       "</div>"
      ],
      "text/plain": [
       "           h   ab       avg  shift_rating        player_name\n",
       "453568.0  36  103  0.349515         130.0   Charlie Blackmon\n",
       "502110.0  31   90  0.344444         128.0      J.D. Martinez\n",
       "519317.0  27   79  0.341772         127.0  Giancarlo Stanton\n",
       "572761.0  55  164  0.335366         125.0     Matt Carpenter\n",
       "570256.0  30   90  0.333333         124.0    Gregory Polanco"
      ]
     },
     "execution_count": 401,
     "metadata": {},
     "output_type": "execute_result"
    }
   ],
   "source": [
    "print(\"Mid Season Shift Leaders\")\n",
    "sm_top5"
   ]
  },
  {
   "cell_type": "code",
   "execution_count": 400,
   "metadata": {},
   "outputs": [
    {
     "name": "stdout",
     "output_type": "stream",
     "text": [
      "Late Season Shift Leaders\n"
     ]
    },
    {
     "data": {
      "text/html": [
       "<div>\n",
       "<style scoped>\n",
       "    .dataframe tbody tr th:only-of-type {\n",
       "        vertical-align: middle;\n",
       "    }\n",
       "\n",
       "    .dataframe tbody tr th {\n",
       "        vertical-align: top;\n",
       "    }\n",
       "\n",
       "    .dataframe thead th {\n",
       "        text-align: right;\n",
       "    }\n",
       "</style>\n",
       "<table border=\"1\" class=\"dataframe\">\n",
       "  <thead>\n",
       "    <tr style=\"text-align: right;\">\n",
       "      <th></th>\n",
       "      <th>h</th>\n",
       "      <th>ab</th>\n",
       "      <th>avg</th>\n",
       "      <th>shift_rating</th>\n",
       "      <th>player_name</th>\n",
       "    </tr>\n",
       "  </thead>\n",
       "  <tbody>\n",
       "    <tr>\n",
       "      <th>488726.0</th>\n",
       "      <td>33</td>\n",
       "      <td>76</td>\n",
       "      <td>0.434211</td>\n",
       "      <td>161.0</td>\n",
       "      <td>Michael Brantley</td>\n",
       "    </tr>\n",
       "    <tr>\n",
       "      <th>660670.0</th>\n",
       "      <td>34</td>\n",
       "      <td>88</td>\n",
       "      <td>0.386364</td>\n",
       "      <td>144.0</td>\n",
       "      <td>Ronald Acuna Jr.</td>\n",
       "    </tr>\n",
       "    <tr>\n",
       "      <th>408045.0</th>\n",
       "      <td>34</td>\n",
       "      <td>98</td>\n",
       "      <td>0.346939</td>\n",
       "      <td>129.0</td>\n",
       "      <td>Joe Mauer</td>\n",
       "    </tr>\n",
       "    <tr>\n",
       "      <th>519203.0</th>\n",
       "      <td>56</td>\n",
       "      <td>168</td>\n",
       "      <td>0.333333</td>\n",
       "      <td>124.0</td>\n",
       "      <td>Anthony Rizzo</td>\n",
       "    </tr>\n",
       "    <tr>\n",
       "      <th>641355.0</th>\n",
       "      <td>37</td>\n",
       "      <td>121</td>\n",
       "      <td>0.305785</td>\n",
       "      <td>114.0</td>\n",
       "      <td>Cody Bellinger</td>\n",
       "    </tr>\n",
       "  </tbody>\n",
       "</table>\n",
       "</div>"
      ],
      "text/plain": [
       "           h   ab       avg  shift_rating       player_name\n",
       "488726.0  33   76  0.434211         161.0  Michael Brantley\n",
       "660670.0  34   88  0.386364         144.0  Ronald Acuna Jr.\n",
       "408045.0  34   98  0.346939         129.0         Joe Mauer\n",
       "519203.0  56  168  0.333333         124.0     Anthony Rizzo\n",
       "641355.0  37  121  0.305785         114.0    Cody Bellinger"
      ]
     },
     "execution_count": 400,
     "metadata": {},
     "output_type": "execute_result"
    }
   ],
   "source": [
    "print(\"Late Season Shift Leaders\")\n",
    "sl_top5"
   ]
  },
  {
   "cell_type": "code",
   "execution_count": null,
   "metadata": {},
   "outputs": [],
   "source": []
  }
 ],
 "metadata": {
  "kernelspec": {
   "display_name": "Python 3",
   "language": "python",
   "name": "python3"
  },
  "language_info": {
   "codemirror_mode": {
    "name": "ipython",
    "version": 3
   },
   "file_extension": ".py",
   "mimetype": "text/x-python",
   "name": "python",
   "nbconvert_exporter": "python",
   "pygments_lexer": "ipython3",
   "version": "3.6.5"
  }
 },
 "nbformat": 4,
 "nbformat_minor": 2
}
