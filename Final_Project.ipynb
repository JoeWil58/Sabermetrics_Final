{
 "cells": [
  {
   "cell_type": "markdown",
   "metadata": {},
   "source": [
    "# Shift Rating  \n",
    "* Evaluate which players can \"beat the shift\"  \n",
    "* Compare players' hitting ability when the infield or outfield is shifted vs. in a standard alignment\n",
    "* Start with shifted average\n",
    "* Compute rating by finding how far above the average shift average they are"
   ]
  },
  {
   "cell_type": "code",
   "execution_count": 90,
   "metadata": {},
   "outputs": [],
   "source": [
    "from pybaseball import statcast\n",
    "import pandas as pd\n",
    "import matplotlib.pyplot as plt\n",
    "from pybaseball import playerid_lookup\n",
    "import numpy as np\n",
    "from pybaseball import statcast_batter\n",
    "from pybaseball.lahman import *"
   ]
  },
  {
   "cell_type": "code",
   "execution_count": 91,
   "metadata": {},
   "outputs": [],
   "source": [
    "#statcast(start_dt='2018-03-29', end_dt='2018-09-30').to_csv(path_or_buf='/Users/Joe/Documents/Baseball/statcast_2018.txt')\n",
    "#statcast(start_dt='2016-04-01', end_dt='2016-09-30').to_csv(path_or_buf='/Users/Joe/Documents/Baseball/statcast_2016.txt')\n"
   ]
  },
  {
   "cell_type": "code",
   "execution_count": 92,
   "metadata": {},
   "outputs": [],
   "source": [
    "stats = pd.read_csv('/Users/Joe/Documents/Baseball/statcast_2016.csv')"
   ]
  },
  {
   "cell_type": "code",
   "execution_count": 93,
   "metadata": {},
   "outputs": [],
   "source": [
    "stats = stats.loc[stats['events'].notnull()].copy()"
   ]
  },
  {
   "cell_type": "code",
   "execution_count": 94,
   "metadata": {},
   "outputs": [],
   "source": [
    "#list(stats)"
   ]
  },
  {
   "cell_type": "code",
   "execution_count": 95,
   "metadata": {},
   "outputs": [],
   "source": [
    "#Get our initial two dataframes of any sort of shifted alignment and all standard alignment\n",
    "stats = stats.dropna(subset=['if_fielding_alignment', 'of_fielding_alignment'])\n",
    "stats_shift = stats.loc[(stats['if_fielding_alignment'] != 'Standard') | (stats['of_fielding_alignment'] != 'Standard')]\n",
    "stats_standard = stats.loc[(stats['if_fielding_alignment'] == 'Standard') & (stats['of_fielding_alignment'] == 'Standard')]"
   ]
  },
  {
   "cell_type": "code",
   "execution_count": 96,
   "metadata": {},
   "outputs": [],
   "source": [
    "#Separate these into early, mid, and late season\n",
    "shift_early = stats_shift.loc[stats_shift['game_date'].str.contains('2016-04') | stats_shift['game_date'].str.contains('2016-05')]\n",
    "shift_mid = stats_shift.loc[stats['game_date'].str.contains('2016-06') | stats_shift['game_date'].str.contains('2016-07')]\n",
    "shift_late = stats_shift.loc[stats['game_date'].str.contains('2016-08') | stats_shift['game_date'].str.contains('2016-09')]\n"
   ]
  },
  {
   "cell_type": "code",
   "execution_count": 97,
   "metadata": {},
   "outputs": [],
   "source": [
    "#Separate standard into early, mid, and late season as well\n",
    "standard_early = stats_standard.loc[stats_standard['game_date'].str.contains('2016-04') | stats_standard['game_date'].str.contains('2016-05')]\n",
    "standard_mid = stats_standard.loc[stats['game_date'].str.contains('2016-06') | stats_standard['game_date'].str.contains('2016-07')]\n",
    "standard_late = stats_standard.loc[stats['game_date'].str.contains('2016-08') | stats_standard['game_date'].str.contains('2016-09')]\n"
   ]
  },
  {
   "cell_type": "code",
   "execution_count": 98,
   "metadata": {},
   "outputs": [],
   "source": [
    "#We want dataframes for all the hit events and all the at-bat events so we can eventually calculate an average\n",
    "#Slight caveat though. I am including sac fly as a 'hit' because I believe if you move a runner up or score a run\n",
    "#on a sacrifice fly you still did your job, and thus beat the shift.\n",
    "#I don't believe the same applies to a sac bunt since bunts have virtually no chance of leaving the infield regardless of shift\n",
    "shift_early_hits = shift_early.loc[(shift_early['events'] == 'single') | (shift_early['events'] == 'double') | (shift_early['events'] == 'triple') | (shift_early['events'] == 'home_run') | (shift_early['events'] == 'sac_fly')]\n",
    "shift_mid_hits = shift_mid.loc[(shift_mid['events'] == 'single') | (shift_mid['events'] == 'double') | (shift_mid['events'] == 'triple') | (shift_mid['events'] == 'home_run') | (shift_mid['events'] == 'sac_fly')]\n",
    "shift_late_hits = shift_late.loc[(shift_late['events'] == 'single') | (shift_late['events'] == 'double') | (shift_late['events'] == 'triple') | (shift_late['events'] == 'home_run') | (shift_late['events'] == 'sac_fly')]\n",
    "\n",
    "shift_early_ab = shift_early.loc[(shift_early['events'] == 'field_out') | (shift_early['events'] == 'strikeout') | (shift_early['events'] == 'single') | (shift_early['events'] == 'double') | (shift_early['events'] == 'grounded_into_double_play') | (shift_early['events'] == 'home_run') | (shift_early['events'] == 'double_play') | (shift_early['events'] == 'triple') | (shift_early['events'] == 'sac_fly') | (shift_early['events'] == 'force_out') | (shift_early['events'] == 'field_error') | (shift_early['events'] == 'fielders_choice_out') | (shift_early['events'] == 'strikeout_double_play') | (shift_early['events'] == 'sac_fly_double_play') | (shift_early['events'] == 'fielders_chocie') | (shift_early['events'] == 'other_out') | (shift_early['events'] == 'triple_play')]\n",
    "shift_mid_ab = shift_mid.loc[(shift_mid['events'] == 'field_out') | (shift_mid['events'] == 'strikeout') | (shift_mid['events'] == 'single') | (shift_mid['events'] == 'double') | (shift_mid['events'] == 'grounded_into_double_play') | (shift_mid['events'] == 'home_run') | (shift_mid['events'] == 'double_play') | (shift_mid['events'] == 'triple') | (shift_mid['events'] == 'sac_fly') | (shift_mid['events'] == 'force_out') | (shift_mid['events'] == 'field_error') | (shift_mid['events'] == 'fielders_choice_out') | (shift_mid['events'] == 'strikeout_double_play') | (shift_mid['events'] == 'sac_fly_double_play') | (shift_mid['events'] == 'fielders_chocie') | (shift_mid['events'] == 'other_out') | (shift_mid['events'] == 'triple_play')]\n",
    "shift_late_ab = shift_late.loc[(shift_late['events'] == 'field_out') | (shift_late['events'] == 'strikeout') | (shift_late['events'] == 'single') | (shift_late['events'] == 'double') | (shift_late['events'] == 'grounded_into_double_play') | (shift_late['events'] == 'home_run') | (shift_late['events'] == 'double_play') | (shift_late['events'] == 'triple') | (shift_late['events'] == 'sac_fly') | (shift_late['events'] == 'force_out') | (shift_late['events'] == 'field_error') | (shift_late['events'] == 'fielders_choice_out') | (shift_late['events'] == 'strikeout_double_play') | (shift_late['events'] == 'sac_fly_double_play') | (shift_late['events'] == 'fielders_chocie') | (shift_late['events'] == 'other_out') | (shift_late['events'] == 'triple_play')]\n"
   ]
  },
  {
   "cell_type": "code",
   "execution_count": 99,
   "metadata": {},
   "outputs": [],
   "source": [
    "#These are the same slices as above but for our standard alignment\n",
    "standard_early_hits = standard_early.loc[(standard_early['events'] == 'single') | (standard_early['events'] == 'double') | (standard_early['events'] == 'triple') | (standard_early['events'] == 'home_run') | (standard_early['events'] == 'sac_fly')]\n",
    "standard_mid_hits = standard_mid.loc[(standard_mid['events'] == 'single') | (standard_mid['events'] == 'double') | (standard_mid['events'] == 'triple') | (standard_mid['events'] == 'home_run') | (standard_mid['events'] == 'sac_fly')]\n",
    "standard_late_hits = standard_late.loc[(standard_late['events'] == 'single') | (standard_late['events'] == 'double') | (standard_late['events'] == 'triple') | (standard_late['events'] == 'home_run') | (standard_late['events'] == 'sac_fly')]\n",
    "\n",
    "standard_early_ab = standard_early.loc[(standard_early['events'] == 'field_out') | (standard_early['events'] == 'strikeout') | (standard_early['events'] == 'single') | (standard_early['events'] == 'double') | (standard_early['events'] == 'grounded_into_double_play') | (standard_early['events'] == 'home_run') | (standard_early['events'] == 'double_play') | (standard_early['events'] == 'triple') | (standard_early['events'] == 'sac_fly') | (standard_early['events'] == 'force_out') | (standard_early['events'] == 'field_error') | (standard_early['events'] == 'fielders_choice_out') | (standard_early['events'] == 'strikeout_double_play') | (standard_early['events'] == 'sac_fly_double_play') | (standard_early['events'] == 'fielders_chocie') | (standard_early['events'] == 'other_out') | (standard_early['events'] == 'triple_play')]\n",
    "standard_mid_ab = standard_mid.loc[(standard_mid['events'] == 'field_out') | (standard_mid['events'] == 'strikeout') | (standard_mid['events'] == 'single') | (standard_mid['events'] == 'double') | (standard_mid['events'] == 'grounded_into_double_play') | (standard_mid['events'] == 'home_run') | (standard_mid['events'] == 'double_play') | (standard_mid['events'] == 'triple') | (standard_mid['events'] == 'sac_fly') | (standard_mid['events'] == 'force_out') | (standard_mid['events'] == 'field_error') | (standard_mid['events'] == 'fielders_choice_out') | (standard_mid['events'] == 'strikeout_double_play') | (standard_mid['events'] == 'sac_fly_double_play') | (standard_mid['events'] == 'fielders_chocie') | (standard_mid['events'] == 'other_out') | (standard_mid['events'] == 'triple_play')]\n",
    "standard_late_ab = standard_late.loc[(standard_late['events'] == 'field_out') | (standard_late['events'] == 'strikeout') | (standard_late['events'] == 'single') | (standard_late['events'] == 'double') | (standard_late['events'] == 'grounded_into_double_play') | (standard_late['events'] == 'home_run') | (standard_late['events'] == 'double_play') | (standard_late['events'] == 'triple') | (standard_late['events'] == 'sac_fly') | (standard_late['events'] == 'force_out') | (standard_late['events'] == 'field_error') | (standard_late['events'] == 'fielders_choice_out') | (standard_late['events'] == 'strikeout_double_play') | (standard_late['events'] == 'sac_fly_double_play') | (standard_late['events'] == 'fielders_chocie') | (standard_late['events'] == 'other_out') | (standard_late['events'] == 'triple_play')]\n"
   ]
  },
  {
   "cell_type": "code",
   "execution_count": 100,
   "metadata": {},
   "outputs": [],
   "source": [
    "#For the sake of typing I'm going to abbreviate 'shift early hits' to 'seh', 'shift mid hits' to 'smh' and so on.\n",
    "#This will give us the number of hits each batter got when the shift was on.\n",
    "seh_group = shift_early_hits.groupby(['batter']).size()\n",
    "smh_group = shift_mid_hits.groupby(['batter']).size()\n",
    "slh_group = shift_late_hits.groupby(['batter']).size()\n",
    "\n",
    "#This will give us the number of plate appearances each batter got when the shift was on.\n",
    "#We'll use 'se_ab' to stand for 'shift early at bat' and same convention for mid and late.\n",
    "se_ab_group = shift_early_ab.groupby(['batter']).size()\n",
    "sm_ab_group = shift_mid_ab.groupby(['batter']).size()\n",
    "sl_ab_group = shift_late_ab.groupby(['batter']).size()"
   ]
  },
  {
   "cell_type": "code",
   "execution_count": 101,
   "metadata": {},
   "outputs": [],
   "source": [
    "#For the non-shift situations I will use the abbreviation 'stan_eh' to mean 'standard early hits.' Not the \n",
    "#most concise but it gets the job done.\n",
    "#This will give the number of hits each batter had without any shift on.\n",
    "stan_eh_group = standard_early_hits.groupby(['batter']).size()\n",
    "stan_mh_group = standard_mid_hits.groupby(['batter']).size()\n",
    "stan_lh_group = standard_late_hits.groupby(['batter']).size()\n",
    "\n",
    "#Now we will find the number of at bats each batter had without a shift one.\n",
    "#Here I will use 'stan_eab' to mean 'standard early at bat' and so on.\n",
    "stan_eab_group = standard_early_ab.groupby(['batter']).size()\n",
    "stan_mab_group = standard_mid_ab.groupby(['batter']).size()\n",
    "stan_lab_group = standard_late_ab.groupby(['batter']).size()"
   ]
  },
  {
   "cell_type": "code",
   "execution_count": 102,
   "metadata": {},
   "outputs": [],
   "source": [
    "#Let's turn them all into dictionaries so we can actually do things with them\n",
    "seh_group = seh_group.to_dict()\n",
    "smh_group = smh_group.to_dict()\n",
    "slh_group = slh_group.to_dict()\n",
    "se_ab_group = se_ab_group.to_dict()\n",
    "sm_ab_group = sm_ab_group.to_dict()\n",
    "sl_ab_group = sl_ab_group.to_dict()\n",
    "\n",
    "stan_eh_group = stan_eh_group.to_dict()\n",
    "stan_mh_group = stan_mh_group.to_dict()\n",
    "stan_lh_group = stan_lh_group.to_dict()\n",
    "stan_eab_group = stan_eab_group.to_dict()\n",
    "stan_mab_group = stan_mab_group.to_dict()\n",
    "stan_lab_group = stan_lab_group.to_dict()"
   ]
  },
  {
   "cell_type": "code",
   "execution_count": null,
   "metadata": {},
   "outputs": [],
   "source": []
  },
  {
   "cell_type": "code",
   "execution_count": 103,
   "metadata": {},
   "outputs": [],
   "source": [
    "batting = batting()\n",
    "player_data = master()\n",
    "bat_names = pd.merge(batting, player_data[['playerID','nameFirst', 'nameLast']], on='playerID', how='inner')\n",
    "bat_names = bat_names.loc[bat_names['yearID'] == 2016]"
   ]
  },
  {
   "cell_type": "code",
   "execution_count": 195,
   "metadata": {},
   "outputs": [],
   "source": [
    "pd.set_option('expand_frame_repr', True)"
   ]
  },
  {
   "cell_type": "code",
   "execution_count": 213,
   "metadata": {},
   "outputs": [],
   "source": [
    "'''\n",
    "This function takes in a players first and last name and then returns the following:\n",
    "* early season shift average\n",
    "* early season standard alignment average\n",
    "* mid season shift average\n",
    "* mid season standard alignment average\n",
    "* late season shift average\n",
    "* late season standard alignment average\n",
    "\n",
    "If 'verbose' is set to True, then the function will also print all of these \n",
    "values in a nice format.\n",
    "'''\n",
    "def player_shift(last_name, first_name, verbose = False):\n",
    "    id_num = playerid_lookup(last_name, first_name)['key_mlbam']\n",
    "    print()\n",
    "\n",
    "    first_letter = first_name[0].capitalize()\n",
    "    last_letter = last_name[0].capitalize()\n",
    "    \n",
    "    first_name = first_letter + first_name[1:]\n",
    "    last_name = last_letter + last_name[1:]\n",
    "    \n",
    "    player_bat = bat_names.loc[(bat_names['nameFirst'] == first_name) & (bat_names['nameLast'] == last_name)].copy()\n",
    "    player_bat['ba'] = player_bat['H'] / player_bat['AB']\n",
    "    player_bat['obp'] = (player_bat['H'] + player_bat['BB'] + player_bat['HBP']) / (player_bat['AB'] + player_bat['BB'] + player_bat['HBP'] + player_bat['SF'])\n",
    "    ba = str(round(player_bat['ba'].iloc[0], 3))\n",
    "    obp = str(round(player_bat['obp'].iloc[0], 3))\n",
    "    \n",
    "    \n",
    "    if len(id_num) == 0:\n",
    "        return \"Not a valid player name.\"\n",
    "    id_num = int(id_num)\n",
    "    \n",
    "    if id_num in se_ab_group:\n",
    "        if id_num in seh_group:\n",
    "            early_shift_avg = seh_group[id_num] / se_ab_group[id_num]\n",
    "        else:\n",
    "            early_shift_avg = 0\n",
    "    if id_num in sm_ab_group:\n",
    "        if id_num in smh_group:\n",
    "            mid_shift_avg = smh_group[id_num] / sm_ab_group[id_num]\n",
    "        else:\n",
    "            mid_shift_avg = 0\n",
    "    if id_num in sl_ab_group:\n",
    "        if id_num in slh_group:\n",
    "            late_shift_avg = slh_group[id_num] / sl_ab_group[id_num]\n",
    "        else:\n",
    "            late_shift_avg = 0\n",
    "            \n",
    "    if id_num in stan_eab_group:\n",
    "        if id_num in stan_eh_group:\n",
    "            early_stan_avg = stan_eh_group[id_num] / stan_eab_group[id_num]\n",
    "        else:\n",
    "            early_stan_avg = 0\n",
    "    if id_num in stan_mab_group:\n",
    "        if id_num in stan_mh_group:\n",
    "            mid_stan_avg = stan_mh_group[id_num] / stan_mab_group[id_num]\n",
    "        else:\n",
    "            mid_stan_avg = 0\n",
    "    if id_num in stan_lab_group:\n",
    "        if id_num in stan_lh_group:\n",
    "            late_stan_avg = stan_lh_group[id_num] / stan_lab_group[id_num]\n",
    "        else:\n",
    "            late_stan_avg = 0\n",
    "            \n",
    "    tot_shift = se_ab_group[id_num] + sm_ab_group[id_num] + sl_ab_group[id_num]\n",
    "    percent_shift = (tot_shift / (tot_shift + stan_eab_group[id_num] + stan_mab_group[id_num] + stan_lab_group[id_num])) * 100\n",
    "    \n",
    "    player_list = [[first_name, last_name, str(round(early_shift_avg, 3)), str(round(early_stan_avg, 3)), str(round(mid_shift_avg, 3)), str(round(mid_stan_avg, 3)), str(round(late_shift_avg, 3)), str(round(late_stan_avg, 3)), str(ba), str(obp), str(round(percent_shift, 3))]]\n",
    "    player_df = pd.DataFrame(np.array(player_list))\n",
    "    player_df.columns = ['first_name', 'last_name', 'early_shift_avg', 'early_stan_avg', 'mid_shift_avg', 'mid_stan_avg', 'late_shift_avg', 'late_stan_avg', 'total_avg', 'total_obp', 'percent_ab_shifted']\n",
    "    print(player_df)\n",
    "    \n",
    "    if verbose == True:\n",
    "        print(first_name + \" \" + last_name + \" early shift average: {:.3f}\".format(early_shift_avg))\n",
    "        print(first_name + \" \" + last_name + \" early standard average: {:.3f}\".format(early_stan_avg))\n",
    "        print()\n",
    "        print(first_name + \" \" + last_name + \" mid shift average: {:.3f}\".format(mid_shift_avg))\n",
    "        print(first_name + \" \" + last_name + \" mid standard average: {:.3f}\".format(mid_stan_avg))\n",
    "        print()\n",
    "        print(first_name + \" \" + last_name + \" late shift average: {:.3f}\".format(late_shift_avg))\n",
    "        print(first_name + \" \" + last_name + \" late standard average: {:.3f}\".format(late_stan_avg))\n",
    "        \n",
    "    y = [early_shift_avg, early_stan_avg, mid_shift_avg, mid_stan_avg, late_shift_avg, late_stan_avg]\n",
    "    y1 = [y[0], y[2], y[4]]\n",
    "    y2 = [y[1], y[3], y[5]]\n",
    "    x = ['early', 'mid', 'late']\n",
    "\n",
    "    fig,ax = plt.subplots(figsize=(8,6))\n",
    "    plt.scatter(x, y1, label=\"Shift\")\n",
    "    plt.scatter(x, y2, label=\"Standard\")\n",
    "    plt.title(first_name + \" \" + last_name + \" Average w/ Shift vs. Standard Alignment\")\n",
    "    plt.xlabel(\"Time of Season\")\n",
    "    plt.ylabel(\"Average\")\n",
    "    plt.legend()\n",
    "    plt.show()\n",
    "    \n",
    "    return early_shift_avg, early_stan_avg, mid_shift_avg, mid_stan_avg, late_shift_avg, late_stan_avg"
   ]
  },
  {
   "cell_type": "code",
   "execution_count": 214,
   "metadata": {},
   "outputs": [
    {
     "name": "stdout",
     "output_type": "stream",
     "text": [
      "Gathering player lookup table. This may take a moment.\n",
      "\n",
      "  first_name last_name early_shift_avg early_stan_avg mid_shift_avg  \\\n",
      "0     Mookie     Betts           0.366          0.264         0.333   \n",
      "\n",
      "  mid_stan_avg late_shift_avg late_stan_avg total_avg total_obp  \\\n",
      "0        0.337          0.438         0.346     0.318     0.363   \n",
      "\n",
      "  percent_ab_shifted  \n",
      "0             11.872  \n"
     ]
    },
    {
     "data": {
      "image/png": "[encoded data removed]",
      "text/plain": [
       "<Figure size 576x432 with 1 Axes>"
      ]
     },
     "metadata": {},
     "output_type": "display_data"
    },
    {
     "data": {
      "text/plain": [
       "(0.36585365853658536,\n",
       " 0.2640449438202247,\n",
       " 0.3333333333333333,\n",
       " 0.3368421052631579,\n",
       " 0.4375,\n",
       " 0.3459715639810427)"
      ]
     },
     "execution_count": 214,
     "metadata": {},
     "output_type": "execute_result"
    }
   ],
   "source": [
    "player_shift(\"betts\", \"mookie\")"
   ]
  },
  {
   "cell_type": "code",
   "execution_count": null,
   "metadata": {},
   "outputs": [],
   "source": []
  },
  {
   "cell_type": "code",
   "execution_count": 106,
   "metadata": {},
   "outputs": [],
   "source": [
    "#We want to turn the shift average into a rating, with 100 as the average player\n",
    "#To do this we need to find the league average shift average in 2018\n",
    "#Below we simply finding the at bats and hits for the whole season instead of early, mid, late\n",
    "stats_shift_h = stats_shift.loc[(stats_shift['events'] == 'single') | (stats_shift['events'] == 'double') | (stats_shift['events'] == 'triple') | (stats_shift['events'] == 'home_run') | (stats_shift['events'] == 'sac_fly')]\n",
    "stats_shift_ab = stats_shift.loc[(stats_shift['events'] == 'field_out') | (stats_shift['events'] == 'strikeout') | (stats_shift['events'] == 'single') | (stats_shift['events'] == 'double') | (stats_shift['events'] == 'grounded_into_double_play') | (stats_shift['events'] == 'home_run') | (stats_shift['events'] == 'double_play') | (stats_shift['events'] == 'triple') | (stats_shift['events'] == 'sac_fly') | (stats_shift['events'] == 'force_out') | (stats_shift['events'] == 'field_error') | (stats_shift['events'] == 'fielders_choice_out') | (stats_shift['events'] == 'strikeout_double_play') | (stats_shift['events'] == 'sac_fly_double_play') | (stats_shift['events'] == 'fielders_chocie') | (stats_shift['events'] == 'other_out') | (stats_shift['events'] == 'triple_play')]"
   ]
  },
  {
   "cell_type": "code",
   "execution_count": 107,
   "metadata": {},
   "outputs": [],
   "source": [
    "#We are doing the same slice as above but with standard fielding alignment\n",
    "stats_standard_h = stats_standard.loc[(stats_standard['events'] == 'single') | (stats_standard['events'] == 'double') | (stats_standard['events'] == 'triple') | (stats_standard['events'] == 'home_run') | (stats_standard['events'] == 'sac_fly')]\n",
    "stats_standard_ab = stats_standard.loc[(stats_standard['events'] == 'field_out') | (stats_standard['events'] == 'strikeout') | (stats_standard['events'] == 'single') | (stats_standard['events'] == 'double') | (stats_standard['events'] == 'grounded_into_double_play') | (stats_standard['events'] == 'home_run') | (stats_standard['events'] == 'double_play') | (stats_standard['events'] == 'triple') | (stats_standard['events'] == 'sac_fly') | (stats_standard['events'] == 'force_out') | (stats_standard['events'] == 'field_error') | (stats_standard['events'] == 'fielders_choice_out') | (stats_standard['events'] == 'strikeout_double_play') | (stats_standard['events'] == 'sac_fly_double_play') | (stats_standard['events'] == 'fielders_chocie') | (stats_standard['events'] == 'other_out') | (stats_standard['events'] == 'triple_play')]"
   ]
  },
  {
   "cell_type": "code",
   "execution_count": 108,
   "metadata": {},
   "outputs": [],
   "source": [
    "#Below we turn our slices into dataframes and then merge them so we have hits and at bats in one\n",
    "#frame so we can calculate average as another column\n",
    "\n",
    "shift_h_group = stats_shift_h.groupby(['batter']).size()\n",
    "shift_h = shift_h_group.to_frame()\n",
    "shift_h.columns = ['h']\n",
    "\n",
    "shift_ab_group = stats_shift_ab.groupby(['batter']).size()\n",
    "shift_ab = shift_ab_group.to_frame()\n",
    "shift_ab.columns = ['ab']\n",
    "\n",
    "shift = shift_h.join(shift_ab, how='inner')\n",
    "\n",
    "shift['avg'] = shift['h'] / shift['ab']"
   ]
  },
  {
   "cell_type": "code",
   "execution_count": 109,
   "metadata": {},
   "outputs": [],
   "source": [
    "#Same as above but with standard fielding alignment\n",
    "standard_h_group = stats_standard_h.groupby(['batter']).size()\n",
    "standard_h = standard_h_group.to_frame()\n",
    "standard_h.columns = ['h']\n",
    "\n",
    "standard_ab_group = stats_standard_ab.groupby(['batter']).size()\n",
    "standard_ab = standard_ab_group.to_frame()\n",
    "standard_ab.columns = ['ab']\n",
    "\n",
    "standard = standard_h.join(standard_ab, how='inner')\n",
    "\n",
    "standard['avg'] = standard['h'] / standard['ab']"
   ]
  },
  {
   "cell_type": "code",
   "execution_count": 110,
   "metadata": {},
   "outputs": [],
   "source": [
    "#This is the league wide mean value for average with both type of fielding alignment\n",
    "shift_mean = shift['avg'].mean()\n",
    "stan_mean = standard['avg'].mean()"
   ]
  },
  {
   "cell_type": "code",
   "execution_count": 111,
   "metadata": {},
   "outputs": [],
   "source": [
    "#To create a rating, we need to find how much of an increase in average relates to a one point increase in rating\n",
    "shift_point = shift_mean / 100\n",
    "stan_point = stan_mean / 100"
   ]
  },
  {
   "cell_type": "code",
   "execution_count": 259,
   "metadata": {},
   "outputs": [
    {
     "data": {
      "text/plain": [
       "502517"
      ]
     },
     "execution_count": 259,
     "metadata": {},
     "output_type": "execute_result"
    }
   ],
   "source": [
    "#We can now use the above calculated values to assign each batter a shift rating where 100 is league average.\n",
    "shift['shift_rating'] = round(((shift['avg'] - shift_mean) / shift_point) + 100, 0)\n",
    "standard['stan_rating'] = round(((standard['avg'] - stan_mean) / stan_point) + 100, 0)\n",
    "\n",
    "shift = shift.sort_values(by=['shift_rating'], ascending=False)\n",
    "standard = standard.sort_values(by=['stan_rating'], ascending=False)\n",
    "\n",
    "shift_active = shift.loc[shift['ab'] > 100]\n",
    "standard_active = standard.loc[standard['ab'] > 100]\n",
    "\n",
    "good_id = int(shift_active[shift_active['shift_rating'] == shift_active['shift_rating'].max()].index[0])\n",
    "good_id"
   ]
  },
  {
   "cell_type": "code",
   "execution_count": 260,
   "metadata": {},
   "outputs": [],
   "source": [
    "#All of the calculations performed above for the entire season are now applied to our early, mid, and late season frames\n",
    "#'seh' stands for 'shift early hits'\n",
    "#'se_ab' stands for 'shift early at bats'\n",
    "#The convention continues like that\n",
    "\n",
    "seh = pd.DataFrame.from_dict(seh_group, orient='index')\n",
    "seh.columns = ['h']\n",
    "smh = pd.DataFrame.from_dict(smh_group, orient='index')\n",
    "smh.columns = ['h']\n",
    "slh = pd.DataFrame.from_dict(slh_group, orient='index')\n",
    "slh.columns = ['h']\n",
    "\n",
    "se_ab = pd.DataFrame.from_dict(se_ab_group, orient='index')\n",
    "se_ab.columns = ['ab']\n",
    "sm_ab = pd.DataFrame.from_dict(sm_ab_group, orient='index')\n",
    "sm_ab.columns = ['ab']\n",
    "sl_ab = pd.DataFrame.from_dict(sl_ab_group, orient='index')\n",
    "sl_ab.columns = ['ab']\n",
    "\n",
    "se_avg = seh.join(se_ab, how='inner')\n",
    "sm_avg = smh.join(sm_ab, how='inner')\n",
    "sl_avg = slh.join(sl_ab, how='inner')"
   ]
  },
  {
   "cell_type": "code",
   "execution_count": 261,
   "metadata": {},
   "outputs": [],
   "source": [
    "#Same as above but for standard alignment\n",
    "#'stan_eh' stands for 'standard early hits'\n",
    "#'stan_eab' stands for 'standard early at bats'\n",
    "#The convention continues like that\n",
    "\n",
    "stan_eh = pd.DataFrame.from_dict(stan_eh_group, orient='index')\n",
    "stan_eh.columns = ['h']\n",
    "stan_mh = pd.DataFrame.from_dict(stan_mh_group, orient='index')\n",
    "stan_mh.columns = ['h']\n",
    "stan_lh = pd.DataFrame.from_dict(stan_lh_group, orient='index')\n",
    "stan_lh.columns = ['h']\n",
    "\n",
    "stan_eab = pd.DataFrame.from_dict(stan_eab_group, orient='index')\n",
    "stan_eab.columns = ['ab']\n",
    "stan_mab = pd.DataFrame.from_dict(stan_mab_group, orient='index')\n",
    "stan_mab.columns = ['ab']\n",
    "stan_lab = pd.DataFrame.from_dict(stan_lab_group, orient='index')\n",
    "stan_lab.columns = ['ab']\n",
    "\n",
    "stan_e_avg = stan_eh.join(stan_eab, how='inner')\n",
    "stan_m_avg = stan_mh.join(stan_mab, how='inner')\n",
    "stan_l_avg = stan_lh.join(stan_lab, how='inner')"
   ]
  },
  {
   "cell_type": "code",
   "execution_count": 262,
   "metadata": {},
   "outputs": [],
   "source": [
    "se_avg['avg'] = se_avg['h'] / se_avg['ab']\n",
    "sm_avg['avg'] = sm_avg['h'] / sm_avg['ab']\n",
    "sl_avg['avg'] = sl_avg['h'] / sl_avg['ab']\n",
    "stan_e_avg['avg'] = stan_e_avg['h'] / stan_e_avg['ab']\n",
    "stan_m_avg['avg'] = stan_m_avg['h'] / stan_m_avg['ab']\n",
    "stan_l_avg['avg'] = stan_l_avg['h'] / stan_l_avg['ab']\n",
    "\n",
    "#shift['shift_rating'] = round(((shift['avg'] - shift_mean) / shift_point) + 100, 0)\n",
    "#standard['stan_rating'] = round(((standard['avg'] - stan_mean) / stan_point) + 100, 0)\n",
    "\n",
    "se_avg['shift_rating'] = round(((se_avg['avg'] - shift_mean) / shift_point) + 100, 0)\n",
    "sm_avg['shift_rating'] = round(((sm_avg['avg'] - shift_mean) / shift_point) + 100, 0)\n",
    "sl_avg['shift_rating'] = round(((sl_avg['avg'] - shift_mean) / shift_point) + 100, 0)\n",
    "\n",
    "stan_e_avg['stan_rating'] = round(((stan_e_avg['avg'] - stan_mean) / stan_point) + 100, 0)\n",
    "stan_m_avg['stan_rating'] = round(((stan_m_avg['avg'] - stan_mean) / stan_point) + 100, 0)\n",
    "stan_l_avg['stan_rating'] = round(((stan_l_avg['avg'] - stan_mean) / stan_point) + 100, 0)"
   ]
  },
  {
   "cell_type": "code",
   "execution_count": 263,
   "metadata": {},
   "outputs": [],
   "source": [
    "#Nowe we can create sorted lists by shift rating and standard alignment rating for each player\n",
    "#during early, mid, and late season\n",
    "\n",
    "se_avg = se_avg.sort_values(by=['shift_rating'], ascending=False)\n",
    "sm_avg = sm_avg.sort_values(by=['shift_rating'], ascending=False)\n",
    "sl_avg = sl_avg.sort_values(by=['shift_rating'], ascending=False)\n",
    "\n",
    "stan_e_avg = stan_e_avg.sort_values(by=['stan_rating'], ascending=False)\n",
    "stan_m_avg = stan_m_avg.sort_values(by=['stan_rating'], ascending=False)\n",
    "stan_l_avg = stan_l_avg.sort_values(by=['stan_rating'], ascending=False)"
   ]
  },
  {
   "cell_type": "code",
   "execution_count": 264,
   "metadata": {},
   "outputs": [],
   "source": [
    "#Now let's try to make a list of the best 'shift beaters'\n",
    "\n",
    "se_active = se_avg.loc[se_avg['ab'] >= 75].copy()\n",
    "sm_active = sm_avg.loc[sm_avg['ab'] >= 75].copy()\n",
    "sl_active = sl_avg.loc[sl_avg['ab'] >= 75].copy()"
   ]
  },
  {
   "cell_type": "code",
   "execution_count": 265,
   "metadata": {},
   "outputs": [],
   "source": [
    "se_top5 = se_active.head(5).copy()\n",
    "sm_top5 = sm_active.head(5).copy()\n",
    "sl_top5 = sl_active.head(5).copy()"
   ]
  },
  {
   "cell_type": "code",
   "execution_count": null,
   "metadata": {},
   "outputs": [],
   "source": []
  },
  {
   "cell_type": "code",
   "execution_count": 266,
   "metadata": {},
   "outputs": [],
   "source": [
    "#This gives us a list of the players identified by their playerid....pretty useless unless you have all id's memorized.\n",
    "#It's pretty easy to find a player id given a name using pybaseball, but it's hard to go the other way.\n",
    "#Luckily someone made a playerid map that will come in handy.\n",
    "\n",
    "se_top5['player_name'] = ['Victor Martinez', 'Carlos Gonzalez', 'David Ortiz', 'Jackie Bradley Jr.', 'Carlos Beltran']\n",
    "sm_top5['player_name'] = ['Joey Votto', 'Carlos Beltran', 'Brandon Moss', 'Kris Bryant', 'Anthony Rizzo']\n",
    "sl_top5['player_name'] = ['Joey Votto', 'David Ortiz', 'Kris Bryant', 'Freddie Freeman', 'Edwin Encarnacion']"
   ]
  },
  {
   "cell_type": "code",
   "execution_count": 267,
   "metadata": {},
   "outputs": [
    {
     "name": "stdout",
     "output_type": "stream",
     "text": [
      "Early Season Shift Leaders\n"
     ]
    },
    {
     "data": {
      "text/html": [
       "<div>\n",
       "<style scoped>\n",
       "    .dataframe tbody tr th:only-of-type {\n",
       "        vertical-align: middle;\n",
       "    }\n",
       "\n",
       "    .dataframe tbody tr th {\n",
       "        vertical-align: top;\n",
       "    }\n",
       "\n",
       "    .dataframe thead th {\n",
       "        text-align: right;\n",
       "    }\n",
       "</style>\n",
       "<table border=\"1\" class=\"dataframe\">\n",
       "  <thead>\n",
       "    <tr style=\"text-align: right;\">\n",
       "      <th></th>\n",
       "      <th>h</th>\n",
       "      <th>ab</th>\n",
       "      <th>avg</th>\n",
       "      <th>shift_rating</th>\n",
       "      <th>player_name</th>\n",
       "    </tr>\n",
       "  </thead>\n",
       "  <tbody>\n",
       "    <tr>\n",
       "      <th>400121.0</th>\n",
       "      <td>42</td>\n",
       "      <td>120</td>\n",
       "      <td>0.350000</td>\n",
       "      <td>124.0</td>\n",
       "      <td>Victor Martinez</td>\n",
       "    </tr>\n",
       "    <tr>\n",
       "      <th>471865.0</th>\n",
       "      <td>44</td>\n",
       "      <td>126</td>\n",
       "      <td>0.349206</td>\n",
       "      <td>124.0</td>\n",
       "      <td>Carlos Gonzalez</td>\n",
       "    </tr>\n",
       "    <tr>\n",
       "      <th>120074.0</th>\n",
       "      <td>56</td>\n",
       "      <td>163</td>\n",
       "      <td>0.343558</td>\n",
       "      <td>122.0</td>\n",
       "      <td>David Ortiz</td>\n",
       "    </tr>\n",
       "    <tr>\n",
       "      <th>598265.0</th>\n",
       "      <td>31</td>\n",
       "      <td>91</td>\n",
       "      <td>0.340659</td>\n",
       "      <td>121.0</td>\n",
       "      <td>Jackie Bradley Jr.</td>\n",
       "    </tr>\n",
       "    <tr>\n",
       "      <th>136860.0</th>\n",
       "      <td>35</td>\n",
       "      <td>109</td>\n",
       "      <td>0.321101</td>\n",
       "      <td>114.0</td>\n",
       "      <td>Carlos Beltran</td>\n",
       "    </tr>\n",
       "  </tbody>\n",
       "</table>\n",
       "</div>"
      ],
      "text/plain": [
       "           h   ab       avg  shift_rating         player_name\n",
       "400121.0  42  120  0.350000         124.0     Victor Martinez\n",
       "471865.0  44  126  0.349206         124.0     Carlos Gonzalez\n",
       "120074.0  56  163  0.343558         122.0         David Ortiz\n",
       "598265.0  31   91  0.340659         121.0  Jackie Bradley Jr.\n",
       "136860.0  35  109  0.321101         114.0      Carlos Beltran"
      ]
     },
     "execution_count": 267,
     "metadata": {},
     "output_type": "execute_result"
    }
   ],
   "source": [
    "print(\"Early Season Shift Leaders\")\n",
    "se_top5"
   ]
  },
  {
   "cell_type": "code",
   "execution_count": 268,
   "metadata": {},
   "outputs": [
    {
     "name": "stdout",
     "output_type": "stream",
     "text": [
      "Mid Season Shift Leaders\n"
     ]
    },
    {
     "data": {
      "text/html": [
       "<div>\n",
       "<style scoped>\n",
       "    .dataframe tbody tr th:only-of-type {\n",
       "        vertical-align: middle;\n",
       "    }\n",
       "\n",
       "    .dataframe tbody tr th {\n",
       "        vertical-align: top;\n",
       "    }\n",
       "\n",
       "    .dataframe thead th {\n",
       "        text-align: right;\n",
       "    }\n",
       "</style>\n",
       "<table border=\"1\" class=\"dataframe\">\n",
       "  <thead>\n",
       "    <tr style=\"text-align: right;\">\n",
       "      <th></th>\n",
       "      <th>h</th>\n",
       "      <th>ab</th>\n",
       "      <th>avg</th>\n",
       "      <th>shift_rating</th>\n",
       "      <th>player_name</th>\n",
       "    </tr>\n",
       "  </thead>\n",
       "  <tbody>\n",
       "    <tr>\n",
       "      <th>458015.0</th>\n",
       "      <td>34</td>\n",
       "      <td>86</td>\n",
       "      <td>0.395349</td>\n",
       "      <td>140.0</td>\n",
       "      <td>Joey Votto</td>\n",
       "    </tr>\n",
       "    <tr>\n",
       "      <th>136860.0</th>\n",
       "      <td>36</td>\n",
       "      <td>98</td>\n",
       "      <td>0.367347</td>\n",
       "      <td>130.0</td>\n",
       "      <td>Carlos Beltran</td>\n",
       "    </tr>\n",
       "    <tr>\n",
       "      <th>461235.0</th>\n",
       "      <td>28</td>\n",
       "      <td>84</td>\n",
       "      <td>0.333333</td>\n",
       "      <td>118.0</td>\n",
       "      <td>Brandon Moss</td>\n",
       "    </tr>\n",
       "    <tr>\n",
       "      <th>592178.0</th>\n",
       "      <td>35</td>\n",
       "      <td>105</td>\n",
       "      <td>0.333333</td>\n",
       "      <td>118.0</td>\n",
       "      <td>Kris Bryant</td>\n",
       "    </tr>\n",
       "    <tr>\n",
       "      <th>519203.0</th>\n",
       "      <td>44</td>\n",
       "      <td>134</td>\n",
       "      <td>0.328358</td>\n",
       "      <td>117.0</td>\n",
       "      <td>Anthony Rizzo</td>\n",
       "    </tr>\n",
       "  </tbody>\n",
       "</table>\n",
       "</div>"
      ],
      "text/plain": [
       "           h   ab       avg  shift_rating     player_name\n",
       "458015.0  34   86  0.395349         140.0      Joey Votto\n",
       "136860.0  36   98  0.367347         130.0  Carlos Beltran\n",
       "461235.0  28   84  0.333333         118.0    Brandon Moss\n",
       "592178.0  35  105  0.333333         118.0     Kris Bryant\n",
       "519203.0  44  134  0.328358         117.0   Anthony Rizzo"
      ]
     },
     "execution_count": 268,
     "metadata": {},
     "output_type": "execute_result"
    }
   ],
   "source": [
    "print(\"Mid Season Shift Leaders\")\n",
    "sm_top5"
   ]
  },
  {
   "cell_type": "code",
   "execution_count": 269,
   "metadata": {},
   "outputs": [
    {
     "name": "stdout",
     "output_type": "stream",
     "text": [
      "Late Season Shift Leaders\n"
     ]
    },
    {
     "data": {
      "text/html": [
       "<div>\n",
       "<style scoped>\n",
       "    .dataframe tbody tr th:only-of-type {\n",
       "        vertical-align: middle;\n",
       "    }\n",
       "\n",
       "    .dataframe tbody tr th {\n",
       "        vertical-align: top;\n",
       "    }\n",
       "\n",
       "    .dataframe thead th {\n",
       "        text-align: right;\n",
       "    }\n",
       "</style>\n",
       "<table border=\"1\" class=\"dataframe\">\n",
       "  <thead>\n",
       "    <tr style=\"text-align: right;\">\n",
       "      <th></th>\n",
       "      <th>h</th>\n",
       "      <th>ab</th>\n",
       "      <th>avg</th>\n",
       "      <th>shift_rating</th>\n",
       "      <th>player_name</th>\n",
       "    </tr>\n",
       "  </thead>\n",
       "  <tbody>\n",
       "    <tr>\n",
       "      <th>458015.0</th>\n",
       "      <td>40</td>\n",
       "      <td>99</td>\n",
       "      <td>0.404040</td>\n",
       "      <td>143.0</td>\n",
       "      <td>Joey Votto</td>\n",
       "    </tr>\n",
       "    <tr>\n",
       "      <th>120074.0</th>\n",
       "      <td>54</td>\n",
       "      <td>171</td>\n",
       "      <td>0.315789</td>\n",
       "      <td>112.0</td>\n",
       "      <td>David Ortiz</td>\n",
       "    </tr>\n",
       "    <tr>\n",
       "      <th>592178.0</th>\n",
       "      <td>26</td>\n",
       "      <td>84</td>\n",
       "      <td>0.309524</td>\n",
       "      <td>110.0</td>\n",
       "      <td>Kris Bryant</td>\n",
       "    </tr>\n",
       "    <tr>\n",
       "      <th>518692.0</th>\n",
       "      <td>42</td>\n",
       "      <td>135</td>\n",
       "      <td>0.311111</td>\n",
       "      <td>110.0</td>\n",
       "      <td>Freddie Freeman</td>\n",
       "    </tr>\n",
       "    <tr>\n",
       "      <th>429665.0</th>\n",
       "      <td>36</td>\n",
       "      <td>122</td>\n",
       "      <td>0.295082</td>\n",
       "      <td>105.0</td>\n",
       "      <td>Edwin Encarnacion</td>\n",
       "    </tr>\n",
       "  </tbody>\n",
       "</table>\n",
       "</div>"
      ],
      "text/plain": [
       "           h   ab       avg  shift_rating        player_name\n",
       "458015.0  40   99  0.404040         143.0         Joey Votto\n",
       "120074.0  54  171  0.315789         112.0        David Ortiz\n",
       "592178.0  26   84  0.309524         110.0        Kris Bryant\n",
       "518692.0  42  135  0.311111         110.0    Freddie Freeman\n",
       "429665.0  36  122  0.295082         105.0  Edwin Encarnacion"
      ]
     },
     "execution_count": 269,
     "metadata": {},
     "output_type": "execute_result"
    }
   ],
   "source": [
    "print(\"Late Season Shift Leaders\")\n",
    "sl_top5"
   ]
  },
  {
   "cell_type": "code",
   "execution_count": null,
   "metadata": {},
   "outputs": [],
   "source": []
  },
  {
   "cell_type": "markdown",
   "metadata": {},
   "source": [
    "## Player Charting Function!  \n",
    "I made a function that will look up any individual player based on their first and last name and print their shifted and standard averages at each point in the season. It will also show the player's total batting average and on base percentage, as well as what percentage of their at bats that season had a shift on.  \n",
    "If verbose is set to True, then it will print these things in a different format.  \n",
    "Along with the numbers we also see a graph that prints their shifted vs. standard average at each point in the season.  \n",
    "The call to the function looks like this:  \n",
    "`player_shift(\"last_name\", \"first_name\", verbose=False)`  \n",
    "\n",
    "Try it out!"
   ]
  },
  {
   "cell_type": "code",
   "execution_count": 319,
   "metadata": {},
   "outputs": [
    {
     "name": "stdout",
     "output_type": "stream",
     "text": [
      "Gathering player lookup table. This may take a moment.\n",
      "\n",
      "  first_name last_name early_shift_avg early_stan_avg mid_shift_avg  \\\n",
      "0     Mookie     Betts           0.366          0.264         0.333   \n",
      "\n",
      "  mid_stan_avg late_shift_avg late_stan_avg total_avg total_obp  \\\n",
      "0        0.337          0.438         0.346     0.318     0.363   \n",
      "\n",
      "  percent_ab_shifted  \n",
      "0             11.872  \n",
      "Mookie Betts early shift average: 0.366\n",
      "Mookie Betts early standard average: 0.264\n",
      "\n",
      "Mookie Betts mid shift average: 0.333\n",
      "Mookie Betts mid standard average: 0.337\n",
      "\n",
      "Mookie Betts late shift average: 0.438\n",
      "Mookie Betts late standard average: 0.346\n"
     ]
    },
    {
     "data": {
      "image/png": "[encoded data removed]",
      "text/plain": [
       "<Figure size 576x432 with 1 Axes>"
      ]
     },
     "metadata": {},
     "output_type": "display_data"
    },
    {
     "data": {
      "text/plain": [
       "(0.36585365853658536,\n",
       " 0.2640449438202247,\n",
       " 0.3333333333333333,\n",
       " 0.3368421052631579,\n",
       " 0.4375,\n",
       " 0.3459715639810427)"
      ]
     },
     "execution_count": 319,
     "metadata": {},
     "output_type": "execute_result"
    }
   ],
   "source": [
    "player_shift(\"betts\", \"mookie\", verbose=True)"
   ]
  },
  {
   "cell_type": "code",
   "execution_count": null,
   "metadata": {},
   "outputs": [],
   "source": []
  },
  {
   "cell_type": "code",
   "execution_count": 271,
   "metadata": {},
   "outputs": [],
   "source": [
    "se_active['id'] = se_active.index\n",
    "sm_active['id'] = sm_active.index\n",
    "sl_active['id'] = sl_active.index\n",
    "\n",
    "se_graph = se_active.loc[se_active['id'] > 300000.0]\n",
    "sm_graph = sm_active.loc[sm_active['id'] > 300000.0]\n",
    "sl_graph = sl_active.loc[sl_active['id'] > 300000.0]"
   ]
  },
  {
   "cell_type": "code",
   "execution_count": 272,
   "metadata": {},
   "outputs": [
    {
     "data": {
      "text/plain": [
       "<matplotlib.legend.Legend at 0x14a7016a0>"
      ]
     },
     "execution_count": 272,
     "metadata": {},
     "output_type": "execute_result"
    },
    {
     "data": {
      "image/png": "[encoded data removed]",
      "text/plain": [
       "<Figure size 864x576 with 1 Axes>"
      ]
     },
     "metadata": {},
     "output_type": "display_data"
    }
   ],
   "source": [
    "player_early = list(se_graph['id'])\n",
    "shift_early = list(se_graph['shift_rating'])\n",
    "player_mid = list(sm_graph['id'])\n",
    "shift_mid = list(sm_graph['shift_rating'])\n",
    "player_late = list(sl_graph['id'])\n",
    "shift_late = list(sl_graph['shift_rating'])\n",
    "\n",
    "fig, ax = plt.subplots(figsize=(12,8))\n",
    "plt.scatter(shift_early, player_early, color='red', label='Early Season')\n",
    "plt.scatter(shift_mid, player_mid, color='green', label='Mid Season')\n",
    "plt.scatter(shift_late, player_late, color='blue', label='Late Season')\n",
    "plt.title(\"Player Shift Rating by Season Time\")\n",
    "plt.xlabel(\"Shift Rating\")\n",
    "plt.ylabel(\"Player ID\")\n",
    "plt.legend()\n"
   ]
  },
  {
   "cell_type": "code",
   "execution_count": null,
   "metadata": {},
   "outputs": [],
   "source": []
  },
  {
   "cell_type": "code",
   "execution_count": 273,
   "metadata": {},
   "outputs": [],
   "source": [
    "id_map = pd.read_csv('/Users/Joe/Documents/Baseball/player_id_map_copy.csv')"
   ]
  },
  {
   "cell_type": "code",
   "execution_count": 274,
   "metadata": {},
   "outputs": [],
   "source": [
    "id_map['playerID'] = id_map['IDPLAYER']"
   ]
  },
  {
   "cell_type": "code",
   "execution_count": 275,
   "metadata": {},
   "outputs": [],
   "source": [
    "bat_ids = pd.merge(bat_names, id_map[['playerID', 'MLBID']], on='playerID', how='inner')"
   ]
  },
  {
   "cell_type": "code",
   "execution_count": 276,
   "metadata": {},
   "outputs": [],
   "source": [
    "se_avg.columns = ['h', 'ab', 'avg', 'sr_early']\n",
    "se_avg['MLBID'] = se_avg.index\n",
    "sm_avg.columns = ['h', 'ab', 'avg', 'sr_mid']\n",
    "sm_avg['MLBID'] = sm_avg.index\n",
    "sl_avg.columns = ['h', 'ab', 'avg', 'sr_late']\n",
    "sl_avg['MLBID'] = sl_avg.index"
   ]
  },
  {
   "cell_type": "code",
   "execution_count": 296,
   "metadata": {},
   "outputs": [],
   "source": [
    "shift['MLBID'] = shift.index\n",
    "shift.columns = ['h', 'ab', 'avg', 'sr_total', 'MLBID']"
   ]
  },
  {
   "cell_type": "code",
   "execution_count": 297,
   "metadata": {},
   "outputs": [],
   "source": [
    "batters = pd.merge(bat_ids, se_avg[['MLBID', 'sr_early']], on='MLBID', how='inner')\n",
    "batters = pd.merge(batters, sm_avg[['MLBID', 'sr_mid']], on='MLBID', how='inner')\n",
    "batters = pd.merge(batters, sl_avg[['MLBID', 'sr_late']], on='MLBID', how='inner')\n",
    "batters = pd.merge(batters, shift[['MLBID', 'sr_total']], on='MLBID', how='inner')"
   ]
  },
  {
   "cell_type": "code",
   "execution_count": 298,
   "metadata": {},
   "outputs": [
    {
     "data": {
      "text/html": [
       "<div>\n",
       "<style scoped>\n",
       "    .dataframe tbody tr th:only-of-type {\n",
       "        vertical-align: middle;\n",
       "    }\n",
       "\n",
       "    .dataframe tbody tr th {\n",
       "        vertical-align: top;\n",
       "    }\n",
       "\n",
       "    .dataframe thead th {\n",
       "        text-align: right;\n",
       "    }\n",
       "</style>\n",
       "<table border=\"1\" class=\"dataframe\">\n",
       "  <thead>\n",
       "    <tr style=\"text-align: right;\">\n",
       "      <th></th>\n",
       "      <th>playerID</th>\n",
       "      <th>yearID</th>\n",
       "      <th>stint</th>\n",
       "      <th>teamID</th>\n",
       "      <th>lgID</th>\n",
       "      <th>G</th>\n",
       "      <th>AB</th>\n",
       "      <th>R</th>\n",
       "      <th>H</th>\n",
       "      <th>2B</th>\n",
       "      <th>...</th>\n",
       "      <th>GIDP</th>\n",
       "      <th>nameFirst</th>\n",
       "      <th>nameLast</th>\n",
       "      <th>MLBID</th>\n",
       "      <th>sr_early</th>\n",
       "      <th>sr_mid</th>\n",
       "      <th>sr_late</th>\n",
       "      <th>sr_total</th>\n",
       "      <th>avg</th>\n",
       "      <th>obp</th>\n",
       "    </tr>\n",
       "  </thead>\n",
       "  <tbody>\n",
       "    <tr>\n",
       "      <th>0</th>\n",
       "      <td>ortizda01</td>\n",
       "      <td>2016</td>\n",
       "      <td>1</td>\n",
       "      <td>BOS</td>\n",
       "      <td>AL</td>\n",
       "      <td>151</td>\n",
       "      <td>537</td>\n",
       "      <td>79</td>\n",
       "      <td>169</td>\n",
       "      <td>48</td>\n",
       "      <td>...</td>\n",
       "      <td>22.0</td>\n",
       "      <td>David</td>\n",
       "      <td>Ortiz</td>\n",
       "      <td>120074.0</td>\n",
       "      <td>122.0</td>\n",
       "      <td>111.0</td>\n",
       "      <td>112.0</td>\n",
       "      <td>115.0</td>\n",
       "      <td>0.314711</td>\n",
       "      <td>0.400958</td>\n",
       "    </tr>\n",
       "    <tr>\n",
       "      <th>1</th>\n",
       "      <td>beltrad01</td>\n",
       "      <td>2016</td>\n",
       "      <td>1</td>\n",
       "      <td>TEX</td>\n",
       "      <td>AL</td>\n",
       "      <td>153</td>\n",
       "      <td>583</td>\n",
       "      <td>89</td>\n",
       "      <td>175</td>\n",
       "      <td>31</td>\n",
       "      <td>...</td>\n",
       "      <td>10.0</td>\n",
       "      <td>Adrian</td>\n",
       "      <td>Beltre</td>\n",
       "      <td>134181.0</td>\n",
       "      <td>137.0</td>\n",
       "      <td>81.0</td>\n",
       "      <td>137.0</td>\n",
       "      <td>123.0</td>\n",
       "      <td>0.300172</td>\n",
       "      <td>0.357812</td>\n",
       "    </tr>\n",
       "    <tr>\n",
       "      <th>2</th>\n",
       "      <td>beltrca01</td>\n",
       "      <td>2016</td>\n",
       "      <td>1</td>\n",
       "      <td>NYA</td>\n",
       "      <td>AL</td>\n",
       "      <td>99</td>\n",
       "      <td>359</td>\n",
       "      <td>50</td>\n",
       "      <td>109</td>\n",
       "      <td>21</td>\n",
       "      <td>...</td>\n",
       "      <td>13.0</td>\n",
       "      <td>Carlos</td>\n",
       "      <td>Beltran</td>\n",
       "      <td>136860.0</td>\n",
       "      <td>114.0</td>\n",
       "      <td>130.0</td>\n",
       "      <td>93.0</td>\n",
       "      <td>110.0</td>\n",
       "      <td>0.303621</td>\n",
       "      <td>0.343669</td>\n",
       "    </tr>\n",
       "    <tr>\n",
       "      <th>3</th>\n",
       "      <td>beltrca01</td>\n",
       "      <td>2016</td>\n",
       "      <td>2</td>\n",
       "      <td>TEX</td>\n",
       "      <td>AL</td>\n",
       "      <td>52</td>\n",
       "      <td>193</td>\n",
       "      <td>23</td>\n",
       "      <td>54</td>\n",
       "      <td>12</td>\n",
       "      <td>...</td>\n",
       "      <td>6.0</td>\n",
       "      <td>Carlos</td>\n",
       "      <td>Beltran</td>\n",
       "      <td>136860.0</td>\n",
       "      <td>114.0</td>\n",
       "      <td>130.0</td>\n",
       "      <td>93.0</td>\n",
       "      <td>110.0</td>\n",
       "      <td>0.279793</td>\n",
       "      <td>0.325243</td>\n",
       "    </tr>\n",
       "    <tr>\n",
       "      <th>4</th>\n",
       "      <td>pujolal01</td>\n",
       "      <td>2016</td>\n",
       "      <td>1</td>\n",
       "      <td>LAA</td>\n",
       "      <td>AL</td>\n",
       "      <td>152</td>\n",
       "      <td>593</td>\n",
       "      <td>71</td>\n",
       "      <td>159</td>\n",
       "      <td>19</td>\n",
       "      <td>...</td>\n",
       "      <td>24.0</td>\n",
       "      <td>Albert</td>\n",
       "      <td>Pujols</td>\n",
       "      <td>405395.0</td>\n",
       "      <td>79.0</td>\n",
       "      <td>88.0</td>\n",
       "      <td>89.0</td>\n",
       "      <td>85.0</td>\n",
       "      <td>0.268128</td>\n",
       "      <td>0.323077</td>\n",
       "    </tr>\n",
       "  </tbody>\n",
       "</table>\n",
       "<p>5 rows × 31 columns</p>\n",
       "</div>"
      ],
      "text/plain": [
       "    playerID  yearID  stint teamID lgID    G   AB   R    H  2B    ...     \\\n",
       "0  ortizda01    2016      1    BOS   AL  151  537  79  169  48    ...      \n",
       "1  beltrad01    2016      1    TEX   AL  153  583  89  175  31    ...      \n",
       "2  beltrca01    2016      1    NYA   AL   99  359  50  109  21    ...      \n",
       "3  beltrca01    2016      2    TEX   AL   52  193  23   54  12    ...      \n",
       "4  pujolal01    2016      1    LAA   AL  152  593  71  159  19    ...      \n",
       "\n",
       "   GIDP  nameFirst  nameLast     MLBID  sr_early  sr_mid  sr_late  sr_total  \\\n",
       "0  22.0      David     Ortiz  120074.0     122.0   111.0    112.0     115.0   \n",
       "1  10.0     Adrian    Beltre  134181.0     137.0    81.0    137.0     123.0   \n",
       "2  13.0     Carlos   Beltran  136860.0     114.0   130.0     93.0     110.0   \n",
       "3   6.0     Carlos   Beltran  136860.0     114.0   130.0     93.0     110.0   \n",
       "4  24.0     Albert    Pujols  405395.0      79.0    88.0     89.0      85.0   \n",
       "\n",
       "        avg       obp  \n",
       "0  0.314711  0.400958  \n",
       "1  0.300172  0.357812  \n",
       "2  0.303621  0.343669  \n",
       "3  0.279793  0.325243  \n",
       "4  0.268128  0.323077  \n",
       "\n",
       "[5 rows x 31 columns]"
      ]
     },
     "execution_count": 298,
     "metadata": {},
     "output_type": "execute_result"
    }
   ],
   "source": [
    "batters['avg'] = batters['H'] / batters['AB']\n",
    "batters['obp'] = (batters['H'] + batters['BB'] + batters['HBP']) / (batters['AB'] + batters['BB'] + batters['HBP'] + batters['SF'])\n",
    "batters.head()"
   ]
  },
  {
   "cell_type": "markdown",
   "metadata": {},
   "source": [
    "We now have a dataframe that has all of the usual lahman data in addition to the batter's MLBID and their early, mid, late, and total season shift rating (abbreviated to sr_early, sr_mid, sr_late, and sr_total respectively)."
   ]
  },
  {
   "cell_type": "markdown",
   "metadata": {},
   "source": [
    "## Correlations  \n",
    "Let's see how our shift rating correlates to batting average and on base percentage!"
   ]
  },
  {
   "cell_type": "code",
   "execution_count": 300,
   "metadata": {},
   "outputs": [
    {
     "name": "stdout",
     "output_type": "stream",
     "text": [
      "Shift-Rating vs. Batting Average Correlation\n",
      "Early shift-rating r-squared: 0.065\n",
      "Mid shift-rating r-squared: 0.050\n",
      "Late shift-rating r-squared: 0.064\n",
      "Total shift-rating r-squared: 0.208\n",
      "\n",
      "-----------------------------------------------\n",
      "\n",
      "Shift-Rating vs. On Base Percentage Correlation\n",
      "Early shift-rating r-squared: 0.017\n",
      "Mid shift-rating r-squared: 0.015\n",
      "Late shift-rating r-squared: 0.026\n",
      "Total shift-rating r-squared: 0.064\n"
     ]
    }
   ],
   "source": [
    "early_avg_r = batters[\"sr_early\"].corr(batters[\"avg\"], method='pearson')\n",
    "mid_avg_r = batters[\"sr_mid\"].corr(batters[\"avg\"], method='pearson')\n",
    "late_avg_r = batters[\"sr_late\"].corr(batters[\"avg\"], method='pearson')\n",
    "tot_avg_r = batters[\"sr_total\"].corr(batters[\"avg\"], method='pearson')\n",
    "\n",
    "early_obp_r = batters[\"sr_early\"].corr(batters[\"obp\"], method='pearson')\n",
    "mid_obp_r = batters[\"sr_mid\"].corr(batters[\"obp\"], method='pearson')\n",
    "late_obp_r = batters[\"sr_late\"].corr(batters[\"obp\"], method='pearson')\n",
    "tot_obp_r = batters[\"sr_total\"].corr(batters[\"obp\"], method='pearson')\n",
    "\n",
    "print(\"Shift-Rating vs. Batting Average Correlation\")\n",
    "print(\"Early shift-rating r-squared: {:.3f}\".format(early_avg_r**2))\n",
    "print(\"Mid shift-rating r-squared: {:.3f}\".format(mid_avg_r**2))\n",
    "print(\"Late shift-rating r-squared: {:.3f}\".format(late_avg_r**2))\n",
    "print(\"Total shift-rating r-squared: {:.3f}\".format(tot_avg_r**2))\n",
    "print()\n",
    "print(\"-----------------------------------------------\")\n",
    "print()\n",
    "print(\"Shift-Rating vs. On Base Percentage Correlation\")\n",
    "print(\"Early shift-rating r-squared: {:.3f}\".format(early_obp_r**2))\n",
    "print(\"Mid shift-rating r-squared: {:.3f}\".format(mid_obp_r**2))\n",
    "print(\"Late shift-rating r-squared: {:.3f}\".format(late_obp_r**2))\n",
    "print(\"Total shift-rating r-squared: {:.3f}\".format(tot_obp_r**2))"
   ]
  },
  {
   "cell_type": "code",
   "execution_count": null,
   "metadata": {},
   "outputs": [],
   "source": []
  },
  {
   "cell_type": "markdown",
   "metadata": {},
   "source": [
    "And just for fun we'll make some graphs:"
   ]
  },
  {
   "cell_type": "code",
   "execution_count": 311,
   "metadata": {},
   "outputs": [
    {
     "name": "stdout",
     "output_type": "stream",
     "text": [
      "R-squared: 0.208\n"
     ]
    },
    {
     "data": {
      "image/png": "[encoded data removed]",
      "text/plain": [
       "<Figure size 1008x576 with 1 Axes>"
      ]
     },
     "metadata": {},
     "output_type": "display_data"
    }
   ],
   "source": [
    "shift_x = list(batters['sr_total'])\n",
    "avg_y = list(batters['avg'])\n",
    "\n",
    "Sy = batters[\"avg\"].std()\n",
    "Sx = batters[\"sr_total\"].std()\n",
    "m = tot_avg_r * (Sy / Sx)\n",
    "b = batters['avg'].mean() - (m * batters['sr_total'].mean())\n",
    "y = m * batters['sr_total'].copy() + b\n",
    "\n",
    "fig, ax = plt.subplots(figsize=(14,8))\n",
    "plt.scatter(shift_x, avg_y, label='Average vs. Shift-Rating')\n",
    "plt.plot(shift_x, y, color='red', label='Average vs. Shift-Rating Predicted')\n",
    "plt.title(\"Batting Average vs. Shift Rating\")\n",
    "plt.xlabel(\"Shift Rating\")\n",
    "plt.ylabel(\"Batting Average\")\n",
    "plt.legend()\n",
    "print(\"R-squared: {:.3f}\".format(tot_avg_r**2))"
   ]
  },
  {
   "cell_type": "code",
   "execution_count": 310,
   "metadata": {},
   "outputs": [
    {
     "name": "stdout",
     "output_type": "stream",
     "text": [
      "R-squared: 0.064\n"
     ]
    },
    {
     "data": {
      "image/png": "[encoded data removed]",
      "text/plain": [
       "<Figure size 1008x576 with 1 Axes>"
      ]
     },
     "metadata": {},
     "output_type": "display_data"
    }
   ],
   "source": [
    "shift_x = list(batters['sr_total'])\n",
    "obp_y = list(batters['obp'])\n",
    "\n",
    "Sy = batters[\"obp\"].std()\n",
    "Sx = batters[\"sr_total\"].std()\n",
    "m = tot_obp_r * (Sy / Sx)\n",
    "b = batters['obp'].mean() - (m * batters['sr_total'].mean())\n",
    "y = m * batters['sr_total'].copy() + b\n",
    "\n",
    "fig, ax = plt.subplots(figsize=(14,8))\n",
    "plt.scatter(shift_x, obp_y, label='OBP vs. Shift-Rating')\n",
    "plt.plot(shift_x, y, color='red', label='OBP vs. Shift-Rating Predicted')\n",
    "plt.title(\"On Base Percentage vs. Shift Rating\")\n",
    "plt.xlabel(\"Shift Rating\")\n",
    "plt.ylabel(\"On Base Percentage\")\n",
    "plt.legend()\n",
    "print(\"R-squared: {:.3f}\".format(tot_obp_r**2))"
   ]
  },
  {
   "cell_type": "code",
   "execution_count": null,
   "metadata": {},
   "outputs": [],
   "source": []
  }
 ],
 "metadata": {
  "kernelspec": {
   "display_name": "Python 3",
   "language": "python",
   "name": "python3"
  },
  "language_info": {
   "codemirror_mode": {
    "name": "ipython",
    "version": 3
   },
   "file_extension": ".py",
   "mimetype": "text/x-python",
   "name": "python",
   "nbconvert_exporter": "python",
   "pygments_lexer": "ipython3",
   "version": "3.6.5"
  }
 },
 "nbformat": 4,
 "nbformat_minor": 2
}
